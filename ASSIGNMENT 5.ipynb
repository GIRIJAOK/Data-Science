{
 "cells": [
  {
   "cell_type": "markdown",
   "id": "bb246d35",
   "metadata": {},
   "source": [
    "1:What does an empty dictionary's code look like?"
   ]
  },
  {
   "cell_type": "code",
   "execution_count": 1,
   "id": "6b7f1c55",
   "metadata": {},
   "outputs": [],
   "source": [
    "D = {}"
   ]
  },
  {
   "cell_type": "markdown",
   "id": "b6ea33a5",
   "metadata": {},
   "source": [
    "2:What is the value of a dictionary value with the key 'foo' and the value 42?\n",
    "\n",
    "42"
   ]
  },
  {
   "cell_type": "code",
   "execution_count": 5,
   "id": "75a86338",
   "metadata": {},
   "outputs": [],
   "source": [
    "d ={'foo':42}"
   ]
  },
  {
   "cell_type": "code",
   "execution_count": 6,
   "id": "71401bf2",
   "metadata": {},
   "outputs": [
    {
     "data": {
      "text/plain": [
       "dict_values([42])"
      ]
     },
     "execution_count": 6,
     "metadata": {},
     "output_type": "execute_result"
    }
   ],
   "source": [
    "d.values()"
   ]
  },
  {
   "cell_type": "markdown",
   "id": "e85e13f2",
   "metadata": {},
   "source": [
    "3:What is the most significant distinction between a dictionary and a list?\n",
    "\n",
    "\n",
    " The items stored in a dictionary are unordered, while the items in a list are ordered."
   ]
  },
  {
   "cell_type": "markdown",
   "id": "d1be3f1c",
   "metadata": {},
   "source": [
    "4:What happens if you try to access spam['foo'] if spam is {'bar':100}?\n",
    "\n",
    "\n",
    "key error "
   ]
  },
  {
   "cell_type": "code",
   "execution_count": 7,
   "id": "1e22f0cd",
   "metadata": {},
   "outputs": [],
   "source": [
    "spam = {'bar':100}"
   ]
  },
  {
   "cell_type": "code",
   "execution_count": 8,
   "id": "16b656ae",
   "metadata": {},
   "outputs": [
    {
     "ename": "KeyError",
     "evalue": "'foo'",
     "output_type": "error",
     "traceback": [
      "\u001b[1;31m---------------------------------------------------------------------------\u001b[0m",
      "\u001b[1;31mKeyError\u001b[0m                                  Traceback (most recent call last)",
      "\u001b[1;32m<ipython-input-8-9b5a94d1de8d>\u001b[0m in \u001b[0;36m<module>\u001b[1;34m\u001b[0m\n\u001b[1;32m----> 1\u001b[1;33m \u001b[0mspam\u001b[0m\u001b[1;33m[\u001b[0m\u001b[1;34m'foo'\u001b[0m\u001b[1;33m]\u001b[0m\u001b[1;33m\u001b[0m\u001b[1;33m\u001b[0m\u001b[0m\n\u001b[0m",
      "\u001b[1;31mKeyError\u001b[0m: 'foo'"
     ]
    }
   ],
   "source": [
    "spam['foo']"
   ]
  },
  {
   "cell_type": "markdown",
   "id": "2a7a68b3",
   "metadata": {},
   "source": [
    "5:If a dictionary is stored in spam, what is the difference between the expressions 'cat' in spam and\n",
    "'cat' in spam.keys()?\n",
    "\n",
    "\n",
    "There is no difference. The in operator checks whether a value exists as a key in the dictionary."
   ]
  },
  {
   "cell_type": "code",
   "execution_count": 9,
   "id": "de972a9d",
   "metadata": {},
   "outputs": [],
   "source": [
    "spam={'cat':42}"
   ]
  },
  {
   "cell_type": "code",
   "execution_count": 11,
   "id": "301341d7",
   "metadata": {},
   "outputs": [
    {
     "data": {
      "text/plain": [
       "True"
      ]
     },
     "execution_count": 11,
     "metadata": {},
     "output_type": "execute_result"
    }
   ],
   "source": [
    "'cat' in spam"
   ]
  },
  {
   "cell_type": "code",
   "execution_count": 13,
   "id": "855812bb",
   "metadata": {},
   "outputs": [
    {
     "data": {
      "text/plain": [
       "True"
      ]
     },
     "execution_count": 13,
     "metadata": {},
     "output_type": "execute_result"
    }
   ],
   "source": [
    "'cat' in spam.keys()"
   ]
  },
  {
   "cell_type": "markdown",
   "id": "b0f240cc",
   "metadata": {},
   "source": [
    "6:If a dictionary is stored in spam, what is the difference between the expressions 'cat' in spam and\n",
    "'cat' in spam.values()?\n",
    "\n",
    "'cat' in spam checks whether thers is a key 'cat' key and 'cat' in spam.vaues() checks for a value 'cat' in the dictionary."
   ]
  },
  {
   "cell_type": "code",
   "execution_count": 14,
   "id": "99b45098",
   "metadata": {},
   "outputs": [
    {
     "data": {
      "text/plain": [
       "True"
      ]
     },
     "execution_count": 14,
     "metadata": {},
     "output_type": "execute_result"
    }
   ],
   "source": [
    "'cat' in spam"
   ]
  },
  {
   "cell_type": "code",
   "execution_count": 15,
   "id": "46ff9dec",
   "metadata": {},
   "outputs": [
    {
     "data": {
      "text/plain": [
       "False"
      ]
     },
     "execution_count": 15,
     "metadata": {},
     "output_type": "execute_result"
    }
   ],
   "source": [
    "'cat' in spam.values()"
   ]
  },
  {
   "cell_type": "markdown",
   "id": "b045e40c",
   "metadata": {},
   "source": [
    "7:What is a shortcut for the following code?\n",
    "\n",
    "if 'color' not in spam:\n",
    "spam['color'] = 'black'"
   ]
  },
  {
   "cell_type": "code",
   "execution_count": 16,
   "id": "179126d1",
   "metadata": {},
   "outputs": [
    {
     "data": {
      "text/plain": [
       "{'cat': 42}"
      ]
     },
     "execution_count": 16,
     "metadata": {},
     "output_type": "execute_result"
    }
   ],
   "source": [
    "spam"
   ]
  },
  {
   "cell_type": "code",
   "execution_count": 18,
   "id": "7c89a644",
   "metadata": {},
   "outputs": [
    {
     "data": {
      "text/plain": [
       "'black'"
      ]
     },
     "execution_count": 18,
     "metadata": {},
     "output_type": "execute_result"
    }
   ],
   "source": [
    "spam.setdefault('color','black')"
   ]
  },
  {
   "cell_type": "code",
   "execution_count": 19,
   "id": "a3b6c6a3",
   "metadata": {},
   "outputs": [
    {
     "data": {
      "text/plain": [
       "{'cat': 42, 'color': 'black'}"
      ]
     },
     "execution_count": 19,
     "metadata": {},
     "output_type": "execute_result"
    }
   ],
   "source": [
    "spam"
   ]
  },
  {
   "cell_type": "markdown",
   "id": "d49c5eaf",
   "metadata": {},
   "source": [
    "8:How do you \"pretty print\" dictionary values using which module and function?"
   ]
  },
  {
   "cell_type": "code",
   "execution_count": 19,
   "id": "602ede9f",
   "metadata": {},
   "outputs": [],
   "source": [
    "import pprint\n",
    "d = [ {'Name': 'Sudh', 1: '23', 'Country': 'India'},\n",
    "  {'Name': 'Ann', 1: '44', 'Country': 'China'},\n",
    "  {'Name': 'Joe', 1: '29', 'Country': 'UK'},\n",
    "  {'Name': 'jack', 1: '35', 'Country': 'USA'}\n",
    "]"
   ]
  },
  {
   "cell_type": "code",
   "execution_count": 20,
   "id": "1a465673",
   "metadata": {},
   "outputs": [
    {
     "data": {
      "text/plain": [
       "[{'Name': 'Sudh', 1: '23', 'Country': 'India'},\n",
       " {'Name': 'Ann', 1: '44', 'Country': 'China'},\n",
       " {'Name': 'Joe', 1: '29', 'Country': 'UK'},\n",
       " {'Name': 'jack', 1: '35', 'Country': 'USA'}]"
      ]
     },
     "execution_count": 20,
     "metadata": {},
     "output_type": "execute_result"
    }
   ],
   "source": [
    "d"
   ]
  },
  {
   "cell_type": "code",
   "execution_count": 23,
   "id": "61e3680b",
   "metadata": {},
   "outputs": [
    {
     "name": "stdout",
     "output_type": "stream",
     "text": [
      "[{1: '23', 'Country': 'India', 'Name': 'Sudh'},\n",
      " {1: '44', 'Country': 'China', 'Name': 'Ann'},\n",
      " {1: '29', 'Country': 'UK', 'Name': 'Joe'},\n",
      " {1: '35', 'Country': 'USA', 'Name': 'jack'}]\n"
     ]
    }
   ],
   "source": [
    "pprint.pprint(d)"
   ]
  },
  {
   "cell_type": "code",
   "execution_count": 25,
   "id": "dfaa20fc",
   "metadata": {},
   "outputs": [
    {
     "name": "stdout",
     "output_type": "stream",
     "text": [
      "[{'Name': 'Sudh', 1: '23', 'Country': 'India'}, {'Name': 'Ann', 1: '44', 'Country': 'China'}, {'Name': 'Joe', 1: '29', 'Country': 'UK'}, {'Name': 'jack', 1: '35', 'Country': 'USA'}]\n"
     ]
    }
   ],
   "source": [
    "print(d)"
   ]
  },
  {
   "cell_type": "code",
   "execution_count": null,
   "id": "d7ef4031",
   "metadata": {},
   "outputs": [],
   "source": []
  }
 ],
 "metadata": {
  "kernelspec": {
   "display_name": "Python 3",
   "language": "python",
   "name": "python3"
  },
  "language_info": {
   "codemirror_mode": {
    "name": "ipython",
    "version": 3
   },
   "file_extension": ".py",
   "mimetype": "text/x-python",
   "name": "python",
   "nbconvert_exporter": "python",
   "pygments_lexer": "ipython3",
   "version": "3.8.8"
  }
 },
 "nbformat": 4,
 "nbformat_minor": 5
}
