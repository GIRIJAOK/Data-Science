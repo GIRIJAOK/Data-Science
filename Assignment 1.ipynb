{
 "cells": [
  {
   "cell_type": "markdown",
   "id": "bd187510",
   "metadata": {},
   "source": [
    "# Assignment 1"
   ]
  },
  {
   "cell_type": "markdown",
   "id": "19fe2f85",
   "metadata": {},
   "source": [
    "1. In the below elements which of them are values or an expression? eg:- values can be integer or string and expressions will be mathematical operators.\n",
    "\n",
    "*       -  expression\n",
    "'value' -  value\n",
    "-87.8   -  value\n",
    "-       -  expression\n",
    "/       -  expression\n",
    "+       -  expression\n",
    "6       -  value \n",
    "\n",
    "2. What is the difference between string and variable?\n",
    "   \n",
    "   variable- we can store values in variable,eg:- a=10. a is a variable\n",
    "   String -  These are sourrounded by either single quotes or double quotes,like \"hai\"   'hai'\n",
    "   \n",
    "3. Describe three different data types.\n",
    "\n",
    "   str - string can be used to store string values\n",
    "   int - interger data type is used to used numerical values\n",
    "   list- Lists are used to store multiple items in a single variable.\n",
    "   \n",
    "4. What is an expression made up of? What do all expressions do?  \n",
    "   An Expression is a sequence or combination of values, variables,and operators that always produces or returns a result value. An Expression always evaluates (calculate) to itself.\n",
    "\n",
    "\n",
    "   \n",
    "5. This assignment statements, like spam = 10. What is the difference between an expression and a statement?\n",
    "   \n",
    "    An expression is a combination of values,variables and operators.\n",
    "    Any Instruction that a python interpreter can execute (carry out) is called a Statement.\n",
    "    \n",
    "\n",
    "6. After running the following code, what does the variable bacon contain?\n",
    "\n",
    "    bacon = 22\n",
    "    bacon + 1\n",
    "    result is 23\n",
    "    \n",
    "    \n",
    "7.  What should the values of the following two terms be?\n",
    "\n",
    "     'spam' + 'spamspam'\n",
    "     'spam' * 3\n",
    "     Answer: same result got for the above two terms\n",
    "     \n",
    "8. Why is eggs a valid variable name while 100 is invalid?\n",
    "\n",
    "   We couldn't start varaiable name with integer,thatswhy 100 is invalid. We can give like a100 or e100 etc.\n",
    "   \n",
    "   \n",
    "9. What three functions can be used to get the integer, floating-point number, or string version of a value? \n",
    "\n",
    "   Three functions are ,\n",
    "   integer  - int(),\n",
    "   string   - str(),\n",
    "   floating point number - float().\n",
    "   \n",
    "10. Why does this expression cause an error? How can you fix it?\n",
    " \n",
    "    'I have eaten ' + 99 + ' burritos.'\n",
    "    \n",
    "    \n",
    "    The interger value cannot concatenate with string value. We can fix it by type casting."
   ]
  },
  {
   "cell_type": "code",
   "execution_count": 25,
   "id": "a69912e1",
   "metadata": {},
   "outputs": [
    {
     "data": {
      "text/plain": [
       "23"
      ]
     },
     "execution_count": 25,
     "metadata": {},
     "output_type": "execute_result"
    }
   ],
   "source": [
    "bacon=22\n",
    "bacon+1"
   ]
  },
  {
   "cell_type": "code",
   "execution_count": 22,
   "id": "ff166523",
   "metadata": {},
   "outputs": [
    {
     "data": {
      "text/plain": [
       "'spamspamspam'"
      ]
     },
     "execution_count": 22,
     "metadata": {},
     "output_type": "execute_result"
    }
   ],
   "source": [
    "'spam' + 'spamspam'\n"
   ]
  },
  {
   "cell_type": "code",
   "execution_count": 23,
   "id": "51c8b2af",
   "metadata": {},
   "outputs": [
    {
     "data": {
      "text/plain": [
       "'spamspamspam'"
      ]
     },
     "execution_count": 23,
     "metadata": {},
     "output_type": "execute_result"
    }
   ],
   "source": [
    "'spam' * 3"
   ]
  },
  {
   "cell_type": "code",
   "execution_count": 26,
   "id": "a98e279f",
   "metadata": {},
   "outputs": [
    {
     "ename": "TypeError",
     "evalue": "can only concatenate str (not \"int\") to str",
     "output_type": "error",
     "traceback": [
      "\u001b[1;31m---------------------------------------------------------------------------\u001b[0m",
      "\u001b[1;31mTypeError\u001b[0m                                 Traceback (most recent call last)",
      "\u001b[1;32m<ipython-input-26-d24137131a5c>\u001b[0m in \u001b[0;36m<module>\u001b[1;34m\u001b[0m\n\u001b[1;32m----> 1\u001b[1;33m \u001b[1;34m'I have eaten '\u001b[0m \u001b[1;33m+\u001b[0m \u001b[1;36m99\u001b[0m \u001b[1;33m+\u001b[0m \u001b[1;34m' burritos.'\u001b[0m\u001b[1;33m\u001b[0m\u001b[1;33m\u001b[0m\u001b[0m\n\u001b[0m",
      "\u001b[1;31mTypeError\u001b[0m: can only concatenate str (not \"int\") to str"
     ]
    }
   ],
   "source": [
    "    'I have eaten ' + 99 + ' burritos.'"
   ]
  },
  {
   "cell_type": "code",
   "execution_count": null,
   "id": "c57b6334",
   "metadata": {},
   "outputs": [],
   "source": []
  }
 ],
 "metadata": {
  "kernelspec": {
   "display_name": "Python 3",
   "language": "python",
   "name": "python3"
  },
  "language_info": {
   "codemirror_mode": {
    "name": "ipython",
    "version": 3
   },
   "file_extension": ".py",
   "mimetype": "text/x-python",
   "name": "python",
   "nbconvert_exporter": "python",
   "pygments_lexer": "ipython3",
   "version": "3.8.8"
  }
 },
 "nbformat": 4,
 "nbformat_minor": 5
}
