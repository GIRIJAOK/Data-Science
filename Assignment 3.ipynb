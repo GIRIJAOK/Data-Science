{
 "cells": [
  {
   "cell_type": "markdown",
   "id": "5a9fa260",
   "metadata": {},
   "source": [
    "1. Why are functions advantageous to have in your programs?\n",
    " \n",
    " \n",
    " \n",
    " Functions reduces the need of reapeted codes in the program.Fuctions makes the programs shorter , easy to read and easy understand.\n",
    "\n",
    " "
   ]
  },
  {
   "cell_type": "markdown",
   "id": "83ec198a",
   "metadata": {},
   "source": [
    "2. When does the code in a function run: when it's specified or when it's called?\n",
    "\n",
    "\n",
    "\n",
    "The code in a fuction run when it is called. The code is not run when its defined.\n"
   ]
  },
  {
   "cell_type": "markdown",
   "id": "dc211027",
   "metadata": {},
   "source": [
    "3. What statement creates a function?\n",
    "\n",
    "\n",
    "The def statement creates a funtion."
   ]
  },
  {
   "cell_type": "markdown",
   "id": "e7d6e235",
   "metadata": {},
   "source": [
    "4. What is the difference between a function and a function call?\n",
    "\n",
    "\n",
    "\n",
    "A fuction is piece of code which enhanced the resusabilty and modularity of a program."
   ]
  },
  {
   "cell_type": "markdown",
   "id": "5e64af48",
   "metadata": {},
   "source": [
    "5. How many global scopes are there in a Python program? How many local scopes?\n",
    "\n",
    "\n",
    "A variable is only  available from inside the region it is created.Thi is called scope. In Python, there are four types of scopes, which are as follows:  \n",
    "\n",
    "Global Scope   \n",
    "Local Scope \n",
    "Enclosing Scope  \n",
    "Built-in Scope\n",
    "\n",
    "There is one global scope.There can be any number of local Python scope per program execution\n",
    "\n"
   ]
  },
  {
   "cell_type": "markdown",
   "id": "a3b80b22",
   "metadata": {},
   "source": [
    " 6. What happens to variables in a local scope when the function call returns?\n",
    " \n",
    " \n",
    " \n",
    " The variable only exists while the function is being executed — we call this its lifetime. When the execution of the function terminates (returns), the local variables are destroyed."
   ]
  },
  {
   "cell_type": "markdown",
   "id": "be206eab",
   "metadata": {},
   "source": [
    "7. What is the concept of a return value? Is it possible to have a return value in an expression?\n",
    "\n",
    "\n",
    "A return value is the value that a function call evaluates to. Like any value, a return value can be used as part of an expression."
   ]
  },
  {
   "cell_type": "markdown",
   "id": "a7837e49",
   "metadata": {},
   "source": [
    "8. If a function does not have a return statement, what is the return value of a call to that function?\n",
    "\n",
    "If there is no return statement for a function, its return value is None."
   ]
  },
  {
   "cell_type": "markdown",
   "id": "d89122b8",
   "metadata": {},
   "source": [
    "9. How do you make a function variable refer to the global variable?\n",
    "\n",
    "\n",
    "If you want to refer to a global variable in a function, you can use the global keyword to declare which variables are global."
   ]
  },
  {
   "cell_type": "markdown",
   "id": "97823f51",
   "metadata": {},
   "source": [
    "10. What is the data type of None?\n",
    "\n",
    "\n",
    "The data type of None is NoneType."
   ]
  },
  {
   "cell_type": "markdown",
   "id": "6a9684d5",
   "metadata": {},
   "source": [
    "11. What does the sentence import areallyourpetsnamederic do?\n",
    "\n",
    "\n",
    "This is not a real python module.(It will import the libaray name areallyourpetsnamederic)"
   ]
  },
  {
   "cell_type": "markdown",
   "id": "2ebc0b94",
   "metadata": {},
   "source": [
    "12. If you had a bacon() feature in a spam module, what would you call it after importing spam?\n",
    "\n",
    "\n",
    "This function can be called with spam.bacon()."
   ]
  },
  {
   "cell_type": "markdown",
   "id": "24846565",
   "metadata": {},
   "source": [
    "13. What can you do to save a programme from crashing if it encounters an error?\n",
    "\n",
    "\n",
    "\n",
    "We can use try clause and place the line of code that might cause an error."
   ]
  },
  {
   "cell_type": "markdown",
   "id": "95e46327",
   "metadata": {},
   "source": [
    "14. What is the purpose of the try clause? What is the purpose of the except clause?\n",
    "\n",
    "\n",
    "In the try clause, all statements are executed until an exception is encountered. except is used to catch and handle the exception(s) that are encountered in the try clause. else lets you code sections that should run only when no exceptions are encountered in the try clause."
   ]
  }
 ],
 "metadata": {
  "kernelspec": {
   "display_name": "Python 3",
   "language": "python",
   "name": "python3"
  },
  "language_info": {
   "codemirror_mode": {
    "name": "ipython",
    "version": 3
   },
   "file_extension": ".py",
   "mimetype": "text/x-python",
   "name": "python",
   "nbconvert_exporter": "python",
   "pygments_lexer": "ipython3",
   "version": "3.8.8"
  }
 },
 "nbformat": 4,
 "nbformat_minor": 5
}
