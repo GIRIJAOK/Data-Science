{
 "cells": [
  {
   "cell_type": "markdown",
   "id": "a1c82407",
   "metadata": {},
   "source": [
    "  1.What exactly is []?\n",
    "  \n",
    "  \n",
    "The empty list value, which is a list value that contains no items. This is similar to how ' ' is the empty string value."
   ]
  },
  {
   "cell_type": "markdown",
   "id": "5f857343",
   "metadata": {},
   "source": [
    "  2.In a list of values stored in a variable called spam, how would you assign the value \"hello\" as the third value? (Assume [2, 4, 6, 8, 10] are in spam.) "
   ]
  },
  {
   "cell_type": "code",
   "execution_count": 1,
   "id": "43f1e478",
   "metadata": {},
   "outputs": [],
   "source": [
    "spam = [2,4,6,8,10]"
   ]
  },
  {
   "cell_type": "code",
   "execution_count": 2,
   "id": "59286957",
   "metadata": {},
   "outputs": [
    {
     "data": {
      "text/plain": [
       "[2, 4, 6, 8, 10]"
      ]
     },
     "execution_count": 2,
     "metadata": {},
     "output_type": "execute_result"
    }
   ],
   "source": [
    "spam\n"
   ]
  },
  {
   "cell_type": "code",
   "execution_count": 3,
   "id": "df5b316b",
   "metadata": {},
   "outputs": [],
   "source": [
    "spam[2]=\"hello\""
   ]
  },
  {
   "cell_type": "code",
   "execution_count": 4,
   "id": "51a0b38f",
   "metadata": {},
   "outputs": [
    {
     "data": {
      "text/plain": [
       "[2, 4, 'hello', 8, 10]"
      ]
     },
     "execution_count": 4,
     "metadata": {},
     "output_type": "execute_result"
    }
   ],
   "source": [
    "spam"
   ]
  },
  {
   "cell_type": "markdown",
   "id": "640ed89e",
   "metadata": {},
   "source": [
    "Let's pretend the spam includes the list ['a','b','c','d'] for the next three queries."
   ]
  },
  {
   "cell_type": "code",
   "execution_count": 5,
   "id": "91acdf04",
   "metadata": {},
   "outputs": [],
   "source": [
    "spam = ['a','b','c','d']"
   ]
  },
  {
   "cell_type": "code",
   "execution_count": 6,
   "id": "f2dc5848",
   "metadata": {},
   "outputs": [
    {
     "data": {
      "text/plain": [
       "['a', 'b', 'c', 'd']"
      ]
     },
     "execution_count": 6,
     "metadata": {},
     "output_type": "execute_result"
    }
   ],
   "source": [
    "spam"
   ]
  },
  {
   "cell_type": "markdown",
   "id": "4ff3299a",
   "metadata": {},
   "source": [
    "3.What is the value of spam[int(int('3'*2)//11)]?\n",
    "\n",
    "'d'"
   ]
  },
  {
   "cell_type": "code",
   "execution_count": 7,
   "id": "530c9d97",
   "metadata": {},
   "outputs": [
    {
     "data": {
      "text/plain": [
       "'d'"
      ]
     },
     "execution_count": 7,
     "metadata": {},
     "output_type": "execute_result"
    }
   ],
   "source": [
    "spam[int(int('3'*2)//11)]"
   ]
  },
  {
   "cell_type": "markdown",
   "id": "07ea2446",
   "metadata": {},
   "source": [
    "4.What is the value of spam[-1]?\n",
    "\n",
    "The value of spam[-1] is 'd'.Negative indexes count from the end"
   ]
  },
  {
   "cell_type": "code",
   "execution_count": 8,
   "id": "3c4e3c34",
   "metadata": {},
   "outputs": [
    {
     "data": {
      "text/plain": [
       "'d'"
      ]
     },
     "execution_count": 8,
     "metadata": {},
     "output_type": "execute_result"
    }
   ],
   "source": [
    "spam[-1]\n"
   ]
  },
  {
   "cell_type": "markdown",
   "id": "5eb23d9d",
   "metadata": {},
   "source": [
    " 5:What is the value of spam[:2]?\n",
    " \n",
    " The value of spam[:2] is ['a','b']"
   ]
  },
  {
   "cell_type": "code",
   "execution_count": 9,
   "id": "03841762",
   "metadata": {},
   "outputs": [
    {
     "data": {
      "text/plain": [
       "['a', 'b']"
      ]
     },
     "execution_count": 9,
     "metadata": {},
     "output_type": "execute_result"
    }
   ],
   "source": [
    "spam[:2]"
   ]
  },
  {
   "cell_type": "markdown",
   "id": "149f42a0",
   "metadata": {},
   "source": [
    "Let's pretend bacon has the list[3.14,'cat',11,'cat',True]"
   ]
  },
  {
   "cell_type": "code",
   "execution_count": 16,
   "id": "5e47d52b",
   "metadata": {},
   "outputs": [],
   "source": [
    "bacon = [3.12 ,'cat',11 ,'cat',True]"
   ]
  },
  {
   "cell_type": "markdown",
   "id": "3158ac47",
   "metadata": {},
   "source": [
    "6: What is the value of bacon.index('cat')?  1"
   ]
  },
  {
   "cell_type": "code",
   "execution_count": 11,
   "id": "cfe3328e",
   "metadata": {},
   "outputs": [
    {
     "data": {
      "text/plain": [
       "1"
      ]
     },
     "execution_count": 11,
     "metadata": {},
     "output_type": "execute_result"
    }
   ],
   "source": [
    "bacon.index('cat')"
   ]
  },
  {
   "cell_type": "markdown",
   "id": "1c3ff035",
   "metadata": {},
   "source": [
    "7:How does bacon.append(99) change the look of the list value in bacon?\n",
    "\n",
    "\n",
    "[3.12, 'cat', 11, 'cat', True, 99]"
   ]
  },
  {
   "cell_type": "code",
   "execution_count": 12,
   "id": "7cecb810",
   "metadata": {},
   "outputs": [],
   "source": [
    "bacon.append(99)"
   ]
  },
  {
   "cell_type": "code",
   "execution_count": 13,
   "id": "a7aec092",
   "metadata": {},
   "outputs": [
    {
     "data": {
      "text/plain": [
       "[3.12, 'cat', 11, 'cat', True, 99]"
      ]
     },
     "execution_count": 13,
     "metadata": {},
     "output_type": "execute_result"
    }
   ],
   "source": [
    "bacon"
   ]
  },
  {
   "cell_type": "markdown",
   "id": "223b5861",
   "metadata": {},
   "source": [
    "8:How does bacon.remove('cat) change the look of the list in bacon?\n",
    "\n",
    "[3.12, 11, 'cat', True]"
   ]
  },
  {
   "cell_type": "code",
   "execution_count": null,
   "id": "fcf8eaaa",
   "metadata": {},
   "outputs": [],
   "source": []
  },
  {
   "cell_type": "code",
   "execution_count": 17,
   "id": "57377e59",
   "metadata": {},
   "outputs": [],
   "source": [
    "bacon.remove('cat')"
   ]
  },
  {
   "cell_type": "code",
   "execution_count": 18,
   "id": "2cbb16da",
   "metadata": {},
   "outputs": [
    {
     "data": {
      "text/plain": [
       "[3.12, 11, 'cat', True]"
      ]
     },
     "execution_count": 18,
     "metadata": {},
     "output_type": "execute_result"
    }
   ],
   "source": [
    "bacon"
   ]
  },
  {
   "cell_type": "markdown",
   "id": "a8434853",
   "metadata": {},
   "source": [
    "9:What are the list concatenation and list replication operators?\n",
    "\n",
    "\n",
    "The operator for list concatenation is +, while the operator for replication is *. "
   ]
  },
  {
   "cell_type": "markdown",
   "id": "081fd082",
   "metadata": {},
   "source": [
    "10:What is difference between the list methods append() and insert()?\n",
    "\n",
    "\n",
    "\n",
    "Append() add the values to the end of the list while insert() can add a value any where in the list."
   ]
  },
  {
   "cell_type": "markdown",
   "id": "8b6bcf10",
   "metadata": {},
   "source": [
    "11:What are the two methods for removing items from a list?\n",
    "\n",
    "\n",
    "remove(),pop(),clear()"
   ]
  },
  {
   "cell_type": "markdown",
   "id": "417ab73b",
   "metadata": {},
   "source": [
    "12:Describe how list values and string values are identical.\n",
    "\n",
    "\n",
    "\n",
    "They are similar but not same.\n",
    "Strings and lists are all sequence types, so called because they behave like a sequence ,which are ordered collections of ogjects.\n"
   ]
  },
  {
   "cell_type": "markdown",
   "id": "d4976cc3",
   "metadata": {},
   "source": [
    "13.what is the difference between tuples and lists?\n",
    "\n",
    "\n",
    "a.Lists are mutable and tuple are immutable\n",
    "b.Iinsertion and deletion operation performed well in list \n",
    "access operation performed well in tuple\n",
    "C. list has many builtin funcations whereas tuple has less\n",
    "D.Iteration in list is time consumin but iteration in tuple is faster"
   ]
  },
  {
   "cell_type": "markdown",
   "id": "3c65326c",
   "metadata": {},
   "source": [
    "14.How do you type a tuple value that only contains the integer 42?\n",
    "\n",
    "\n",
    "(42,)"
   ]
  },
  {
   "cell_type": "markdown",
   "id": "15de3aec",
   "metadata": {},
   "source": [
    "15.How do you get a list value's tuple form? How do you get a tuple value's list form?"
   ]
  },
  {
   "cell_type": "code",
   "execution_count": 19,
   "id": "5545ea13",
   "metadata": {},
   "outputs": [
    {
     "data": {
      "text/plain": [
       "[(1, 'sudh', 2, 'hai', 22, 'hello')]"
      ]
     },
     "execution_count": 19,
     "metadata": {},
     "output_type": "execute_result"
    }
   ],
   "source": [
    "list = [(1,'sudh',2,'hai',22,'hello')]\n",
    "list"
   ]
  },
  {
   "cell_type": "code",
   "execution_count": 25,
   "id": "f2465af3",
   "metadata": {},
   "outputs": [
    {
     "data": {
      "text/plain": [
       "[('sudh',), ('hai',), ('hello',)]"
      ]
     },
     "execution_count": 25,
     "metadata": {},
     "output_type": "execute_result"
    }
   ],
   "source": [
    "list1 =[['sudh'],['hai'],['hello']]\n",
    "[tuple(x) for x in list1]"
   ]
  },
  {
   "cell_type": "code",
   "execution_count": 1,
   "id": "2161f275",
   "metadata": {},
   "outputs": [
    {
     "data": {
      "text/plain": [
       "[1, 'sudh', 'ahi', 21, 30, 'all']"
      ]
     },
     "execution_count": 1,
     "metadata": {},
     "output_type": "execute_result"
    }
   ],
   "source": [
    "t=(1,'sudh','ahi',21,30,'all')\n",
    "list(t)"
   ]
  },
  {
   "cell_type": "markdown",
   "id": "4f223b10",
   "metadata": {},
   "source": [
    "16.Variables that \"contain\" list values are not necessarily lists themselves. Instead, what do they contain?\n",
    "\n",
    "\n",
    "They contain refernces to list values.But for strings and integer values, variables simply contain the string or integer value."
   ]
  },
  {
   "cell_type": "markdown",
   "id": "b1e3a2a6",
   "metadata": {},
   "source": [
    "17.How do you distinguish between copy.copy() and copy.deepcopy()?\n",
    "\n",
    "\n",
    "copy.copy(x)\n",
    "Return a shallow copy of x.\n",
    "\n",
    "copy.deepcopy(x[, memo])\n",
    "\n",
    "Return a deep copy of x."
   ]
  }
 ],
 "metadata": {
  "kernelspec": {
   "display_name": "Python 3",
   "language": "python",
   "name": "python3"
  },
  "language_info": {
   "codemirror_mode": {
    "name": "ipython",
    "version": 3
   },
   "file_extension": ".py",
   "mimetype": "text/x-python",
   "name": "python",
   "nbconvert_exporter": "python",
   "pygments_lexer": "ipython3",
   "version": "3.8.8"
  }
 },
 "nbformat": 4,
 "nbformat_minor": 5
}
