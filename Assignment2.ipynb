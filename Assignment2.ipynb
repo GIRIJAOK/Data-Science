{
 "cells": [
  {
   "cell_type": "markdown",
   "id": "e5de9679",
   "metadata": {},
   "source": [
    "# Assignment 2"
   ]
  },
  {
   "cell_type": "markdown",
   "id": "7b545326",
   "metadata": {},
   "source": [
    "1. What are the two values of the Boolean data type? How do you write them?\n",
    "\n",
    " There are two Boolean values : True and False\n",
    "   True =1\n",
    "   False= 0\n",
    "   It can be write like below,\n",
    "   10>9\n",
    "   10==9"
   ]
  },
  {
   "cell_type": "code",
   "execution_count": 1,
   "id": "cc4f971a",
   "metadata": {},
   "outputs": [
    {
     "data": {
      "text/plain": [
       "bool"
      ]
     },
     "execution_count": 1,
     "metadata": {},
     "output_type": "execute_result"
    }
   ],
   "source": [
    "type(True)"
   ]
  },
  {
   "cell_type": "code",
   "execution_count": 2,
   "id": "e3958c7e",
   "metadata": {},
   "outputs": [
    {
     "data": {
      "text/plain": [
       "bool"
      ]
     },
     "execution_count": 2,
     "metadata": {},
     "output_type": "execute_result"
    }
   ],
   "source": [
    "type (False)"
   ]
  },
  {
   "cell_type": "code",
   "execution_count": 3,
   "id": "911e4769",
   "metadata": {},
   "outputs": [
    {
     "data": {
      "text/plain": [
       "2"
      ]
     },
     "execution_count": 3,
     "metadata": {},
     "output_type": "execute_result"
    }
   ],
   "source": [
    "True+True"
   ]
  },
  {
   "cell_type": "code",
   "execution_count": 4,
   "id": "009dd837",
   "metadata": {},
   "outputs": [
    {
     "data": {
      "text/plain": [
       "1"
      ]
     },
     "execution_count": 4,
     "metadata": {},
     "output_type": "execute_result"
    }
   ],
   "source": [
    "True-False"
   ]
  },
  {
   "cell_type": "code",
   "execution_count": 6,
   "id": "93870dac",
   "metadata": {},
   "outputs": [
    {
     "name": "stdout",
     "output_type": "stream",
     "text": [
      "True\n"
     ]
    }
   ],
   "source": [
    "print(10>9)"
   ]
  },
  {
   "cell_type": "code",
   "execution_count": 7,
   "id": "a7c007dd",
   "metadata": {},
   "outputs": [
    {
     "name": "stdout",
     "output_type": "stream",
     "text": [
      "False\n"
     ]
    }
   ],
   "source": [
    "print(10==9)"
   ]
  },
  {
   "cell_type": "markdown",
   "id": "b76f5e91",
   "metadata": {},
   "source": [
    "2. What are the three different types of Boolean operators?\n",
    "  not operator\n",
    "  and operator\n",
    "  or operator\n",
    "  equality operator(==) \n",
    "  inequality operator(!=)\n",
    "  \n",
    "3. Make a list of each Boolean operator's truth tables (i.e. every possible combination of Boolean values for the operator and what it evaluate ).  "
   ]
  },
  {
   "cell_type": "code",
   "execution_count": 27,
   "id": "3a9e9c8a",
   "metadata": {},
   "outputs": [
    {
     "data": {
      "text/plain": [
       "['  == TRUTH TABLE  ',\n",
       " '  X  ==  Y  Returns',\n",
       " 'True == True  True',\n",
       " 'True == False False',\n",
       " 'False == True  False',\n",
       " 'False == False True']"
      ]
     },
     "execution_count": 27,
     "metadata": {},
     "output_type": "execute_result"
    }
   ],
   "source": [
    "bollist=[\"  == TRUTH TABLE  \",\"  X  ==  Y  Returns\",\"True == True  True\",\"True == False False\",\"False == True  False\",\"False == False True\"]\n",
    "bollist"
   ]
  },
  {
   "cell_type": "code",
   "execution_count": 33,
   "id": "b5c084f8",
   "metadata": {},
   "outputs": [
    {
     "data": {
      "text/plain": [
       "['  AND  TRUTH TABLE  ',\n",
       " '  X  and  Y  Returns',\n",
       " 'True and True  True',\n",
       " 'True and False False',\n",
       " 'False and True  False',\n",
       " 'False and False False']"
      ]
     },
     "execution_count": 33,
     "metadata": {},
     "output_type": "execute_result"
    }
   ],
   "source": [
    "anlist=[\"  AND  TRUTH TABLE  \",\"  X  and  Y  Returns\",\"True and True  True\",\"True and False False\",\"False and True  False\",\"False and False False\"]\n",
    "anlist"
   ]
  },
  {
   "cell_type": "code",
   "execution_count": 35,
   "id": "d159bd58",
   "metadata": {
    "scrolled": true
   },
   "outputs": [
    {
     "data": {
      "text/plain": [
       "['  OR TRUTH TABLE  ',\n",
       " '  X  or  Y  Returns',\n",
       " 'True or True  True',\n",
       " 'True or False True',\n",
       " 'False or True  True',\n",
       " 'False or False False']"
      ]
     },
     "execution_count": 35,
     "metadata": {},
     "output_type": "execute_result"
    }
   ],
   "source": [
    "olist=[\"  OR TRUTH TABLE  \",\"  X  or  Y  Returns\",\"True or True  True\",\"True or False True\",\"False or True  True\",\"False or False False\"]\n",
    "olist"
   ]
  },
  {
   "cell_type": "code",
   "execution_count": 42,
   "id": "06aa3272",
   "metadata": {},
   "outputs": [
    {
     "data": {
      "text/plain": [
       "[' NOT TRUTH TABLE  ',\n",
       " ' not  X  Returns',\n",
       " 'not  True  False',\n",
       " 'not False True']"
      ]
     },
     "execution_count": 42,
     "metadata": {},
     "output_type": "execute_result"
    }
   ],
   "source": [
    "nlist=[\" NOT TRUTH TABLE  \",\" not  X  Returns\",\"not  True  False\",\"not False True\"]\n",
    "nlist"
   ]
  },
  {
   "cell_type": "code",
   "execution_count": 43,
   "id": "be5e4c19",
   "metadata": {},
   "outputs": [
    {
     "data": {
      "text/plain": [
       "[' NOT TRUTH TABLE  ',\n",
       " ' not  X  Returns',\n",
       " 'not  True  False',\n",
       " 'not False True',\n",
       " '  OR TRUTH TABLE  ',\n",
       " '  X  or  Y  Returns',\n",
       " 'True or True  True',\n",
       " 'True or False True',\n",
       " 'False or True  True',\n",
       " 'False or False False',\n",
       " '  AND  TRUTH TABLE  ',\n",
       " '  X  and  Y  Returns',\n",
       " 'True and True  True',\n",
       " 'True and False False',\n",
       " 'False and True  False',\n",
       " 'False and False False',\n",
       " ' NOT TRUTH TABLE  ',\n",
       " ' not  X  Returns',\n",
       " 'not  True  False',\n",
       " 'not False True']"
      ]
     },
     "execution_count": 43,
     "metadata": {},
     "output_type": "execute_result"
    }
   ],
   "source": [
    "bollist+olist+anlist+nlist"
   ]
  },
  {
   "cell_type": "markdown",
   "id": "9aa58fe2",
   "metadata": {},
   "source": [
    "4. What are the values of the following expressions?\n",
    " "
   ]
  },
  {
   "cell_type": "code",
   "execution_count": 44,
   "id": "96938241",
   "metadata": {},
   "outputs": [
    {
     "data": {
      "text/plain": [
       "False"
      ]
     },
     "execution_count": 44,
     "metadata": {},
     "output_type": "execute_result"
    }
   ],
   "source": [
    "(5 > 4) and (3 == 5)"
   ]
  },
  {
   "cell_type": "code",
   "execution_count": 45,
   "id": "f4ba9acc",
   "metadata": {},
   "outputs": [
    {
     "data": {
      "text/plain": [
       "False"
      ]
     },
     "execution_count": 45,
     "metadata": {},
     "output_type": "execute_result"
    }
   ],
   "source": [
    "not(5 > 4) "
   ]
  },
  {
   "cell_type": "code",
   "execution_count": 46,
   "id": "c119866e",
   "metadata": {},
   "outputs": [
    {
     "data": {
      "text/plain": [
       "True"
      ]
     },
     "execution_count": 46,
     "metadata": {},
     "output_type": "execute_result"
    }
   ],
   "source": [
    "(5 > 4) or (3 == 5)"
   ]
  },
  {
   "cell_type": "code",
   "execution_count": 47,
   "id": "ebf99c87",
   "metadata": {},
   "outputs": [
    {
     "data": {
      "text/plain": [
       "False"
      ]
     },
     "execution_count": 47,
     "metadata": {},
     "output_type": "execute_result"
    }
   ],
   "source": [
    "not(5 > 4) and (3 == 5)"
   ]
  },
  {
   "cell_type": "code",
   "execution_count": 48,
   "id": "c93a5f0e",
   "metadata": {},
   "outputs": [
    {
     "data": {
      "text/plain": [
       "False"
      ]
     },
     "execution_count": 48,
     "metadata": {},
     "output_type": "execute_result"
    }
   ],
   "source": [
    "(True and True) and (True == False)"
   ]
  },
  {
   "cell_type": "code",
   "execution_count": 49,
   "id": "3ac2af0b",
   "metadata": {},
   "outputs": [
    {
     "data": {
      "text/plain": [
       "True"
      ]
     },
     "execution_count": 49,
     "metadata": {},
     "output_type": "execute_result"
    }
   ],
   "source": [
    "(not False) or (not True)"
   ]
  },
  {
   "cell_type": "markdown",
   "id": "d15417ef",
   "metadata": {},
   "source": [
    "5. What are the six comparison operators?\n",
    " equal(==) eg:- x==y\n",
    " inequal(!=) eg:- x!=y\n",
    " greater than(>)  eg:-  X > Y\n",
    " less than(<)     eg:-  X < Y\n",
    " greater than or equal to(>=)  eg:-  X >= Y\n",
    " less than or equal to(<=)     eg:-  X <= Y  \n",
    " \n",
    "6. How do you tell the difference between the equal to and assignment operators?Describe a condition and when you would use one.\n",
    "\n",
    "The '=' assignment operator used to assign a value right to the variable on the left\n",
    "eg:-  a=6\n",
    "\n",
    "The  '==' equal to operator is used to compare the values of both the variables and the rsult is True or False\n",
    "\n",
    "eg:-  5==5 \n",
    "\n",
    "7. Identify the three blocks in this code:\n",
    "\n",
    "spam = 0\n",
    "if spam == 10:\n",
    "print('eggs')  \n",
    "if spam > 5:    # block A\n",
    "print('bacon')  # block A; Block B inside block A\n",
    "else:\n",
    "print('ham')    # block A; Block C inside block A\n",
    "print('spam')\n",
    "print('spam')\n"
   ]
  },
  {
   "cell_type": "code",
   "execution_count": 69,
   "id": "261bcb98",
   "metadata": {},
   "outputs": [
    {
     "name": "stdout",
     "output_type": "stream",
     "text": [
      "spam\n"
     ]
    }
   ],
   "source": [
    "spam = 0\n",
    "if spam == 10:\n",
    "   print('eggs')\n",
    "   if spam > 5:\n",
    "      print('bacon')\n",
    "   else:\n",
    "      print('ham')\n",
    "   print('spam')\n",
    "print('spam')\n",
    "     "
   ]
  },
  {
   "cell_type": "markdown",
   "id": "9b3a167a",
   "metadata": {},
   "source": [
    "8. Write code that prints Hello if 1 is stored in spam, prints Howdy if 2 is stored in spam, and prints Greetings! if anything else is stored in spam."
   ]
  },
  {
   "cell_type": "code",
   "execution_count": 4,
   "id": "d2be26ec",
   "metadata": {},
   "outputs": [
    {
     "name": "stdout",
     "output_type": "stream",
     "text": [
      "Input a no for spam:2\n",
      "Howdy\n"
     ]
    }
   ],
   "source": [
    "spam = int(input(\"Input a no for spam:\"))\n",
    "if spam == 1:\n",
    "    print('Hello')\n",
    "elif spam == 2:\n",
    "    print('Howdy')\n",
    "else:\n",
    "    print('Greetings!')  "
   ]
  },
  {
   "cell_type": "markdown",
   "id": "a478da82",
   "metadata": {},
   "source": [
    "9. If your programme is stuck in an endless loop, what keys you’ll press?\n",
    "  ctl+C keys\n",
    "  \n",
    "  \n",
    "10. How can you tell the difference between break and continue?\n",
    "\n",
    " Break statement makes the control come out of loop\n",
    "\n",
    "Continue statement takes the control for next iteration\n",
    "\n",
    "\n",
    "11. In a for loop, what is the difference between range(10), range(0, 10), and range(0, 10, 1)?\n",
    "\n",
    " no difference. the range take from 0 to 9\n"
   ]
  },
  {
   "cell_type": "code",
   "execution_count": 5,
   "id": "f309e6f1",
   "metadata": {},
   "outputs": [
    {
     "name": "stdout",
     "output_type": "stream",
     "text": [
      "0\n",
      "1\n",
      "2\n",
      "3\n",
      "4\n",
      "5\n",
      "6\n",
      "7\n",
      "8\n",
      "9\n",
      "*****\n",
      "0\n",
      "1\n",
      "2\n",
      "3\n",
      "4\n",
      "5\n",
      "6\n",
      "7\n",
      "8\n",
      "9\n",
      "****\n",
      "0\n",
      "1\n",
      "2\n",
      "3\n",
      "4\n",
      "5\n",
      "6\n",
      "7\n",
      "8\n",
      "9\n"
     ]
    }
   ],
   "source": [
    "for i in range(10):\n",
    "    print(i)\n",
    "print(\"*****\") \n",
    "for i in range(0,10):\n",
    "    print(i)\n",
    "print(\"****\")\n",
    "for i in range(0,10,1):\n",
    "    print(i)\n"
   ]
  },
  {
   "cell_type": "markdown",
   "id": "b354018b",
   "metadata": {},
   "source": [
    "12. Write a short program that prints the numbers 1 to 10 using a for loop. Then write an equivalent program that prints the numbers 1 to 10 using a while loop.\n"
   ]
  },
  {
   "cell_type": "code",
   "execution_count": 9,
   "id": "03018b89",
   "metadata": {},
   "outputs": [
    {
     "name": "stdout",
     "output_type": "stream",
     "text": [
      "FOR LOOP\n",
      "1\n",
      "2\n",
      "3\n",
      "4\n",
      "5\n",
      "6\n",
      "7\n",
      "8\n",
      "9\n",
      "10\n",
      "*******\n",
      "WHILE LOOP\n",
      "1\n",
      "2\n",
      "3\n",
      "4\n",
      "5\n",
      "6\n",
      "7\n",
      "8\n",
      "9\n",
      "10\n"
     ]
    }
   ],
   "source": [
    "#FOR LOOP\n",
    "print('FOR LOOP')\n",
    "for i in range(1,11):\n",
    "    print(i)\n",
    "print('*******')\n",
    "#WHILE LOOP\n",
    "print('WHILE LOOP')\n",
    "a =1\n",
    "while a <= 10:\n",
    "    print(a)\n",
    "    a+=1"
   ]
  },
  {
   "cell_type": "markdown",
   "id": "1677e1eb",
   "metadata": {},
   "source": [
    "13. If you had a function named bacon() inside a module named spam, how would you call it after importing spam?\n",
    " spam.bacon()"
   ]
  }
 ],
 "metadata": {
  "kernelspec": {
   "display_name": "Python 3",
   "language": "python",
   "name": "python3"
  },
  "language_info": {
   "codemirror_mode": {
    "name": "ipython",
    "version": 3
   },
   "file_extension": ".py",
   "mimetype": "text/x-python",
   "name": "python",
   "nbconvert_exporter": "python",
   "pygments_lexer": "ipython3",
   "version": "3.8.8"
  }
 },
 "nbformat": 4,
 "nbformat_minor": 5
}
