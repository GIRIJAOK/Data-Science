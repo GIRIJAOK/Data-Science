{
 "cells": [
  {
   "cell_type": "markdown",
   "id": "276b4fbe",
   "metadata": {},
   "source": [
    "Qstn1: What are escape characters, and how do you use them?\n",
    "\n",
    "\n",
    "Answer: An escape character is a backslash '\\' followed by the character you want to insert.The escape character allows you to use double quotes when you normally would not be allowed."
   ]
  },
  {
   "cell_type": "code",
   "execution_count": 2,
   "id": "1a070ce0",
   "metadata": {},
   "outputs": [
    {
     "name": "stdout",
     "output_type": "stream",
     "text": [
      "We are the so-called \"Vikings\" from the north.\n"
     ]
    }
   ],
   "source": [
    "txt = \"We are the so-called \\\"Vikings\\\" from the north.\"\n",
    "print(txt)"
   ]
  },
  {
   "cell_type": "markdown",
   "id": "a774b559",
   "metadata": {},
   "source": [
    "Qstn2: What do the escape characters n and t stand for?\n",
    "\n",
    "\n",
    "\n",
    "Answer : The backslash '\\' is a special character, also called the \"escape\" character. It is used in representing certain whitespace characters: \"\\t\" is a tab, \"\\n\" is a newline."
   ]
  },
  {
   "cell_type": "markdown",
   "id": "461591c9",
   "metadata": {},
   "source": [
    "Qstn3 :What is the way to include backslash characters in a string?\n",
    "\n",
    "\n",
    "\n",
    "Answer : Use the syntax \"\\\\\" within the string literal to represent a single backslash.\n",
    "         Use the syntax r\"\\\" to treat backslash (\\) as a literal character, and not as an escape character."
   ]
  },
  {
   "cell_type": "code",
   "execution_count": 3,
   "id": "54884d47",
   "metadata": {},
   "outputs": [
    {
     "name": "stdout",
     "output_type": "stream",
     "text": [
      "\\\n"
     ]
    }
   ],
   "source": [
    "text = \"\\\\\"\n",
    "\n",
    "print(text)"
   ]
  },
  {
   "cell_type": "code",
   "execution_count": 4,
   "id": "39be9aac",
   "metadata": {},
   "outputs": [
    {
     "name": "stdout",
     "output_type": "stream",
     "text": [
      "abc\\123\n"
     ]
    }
   ],
   "source": [
    "raw_text = r\"abc\\123\"\n",
    "\n",
    "print(raw_text)"
   ]
  },
  {
   "cell_type": "markdown",
   "id": "d4a54b65",
   "metadata": {},
   "source": [
    "Qstn4 : The string \"Howl's Moving Castle\" is a correct value. Why isn't the single quote character in the\n",
    "        word Howl's not escaped a problem?\n",
    "        \n",
    "        \n",
    "       \n",
    "Answer : The single quote in Howl's is fine because we used double quotes to mark the beginning and end of the string."
   ]
  },
  {
   "cell_type": "code",
   "execution_count": 6,
   "id": "77b839d0",
   "metadata": {},
   "outputs": [
    {
     "name": "stdout",
     "output_type": "stream",
     "text": [
      "Howl's Moving Castle\n"
     ]
    }
   ],
   "source": [
    "print(\"Howl's Moving Castle\")"
   ]
  },
  {
   "cell_type": "markdown",
   "id": "88350912",
   "metadata": {},
   "source": [
    "Qstn5 : How do you write a string of newlines if you don't want to use the n character?\n",
    "\n",
    "\n",
    "Answer : Multiline strings allow you to use newlines in strings without the \\n escape character."
   ]
  },
  {
   "cell_type": "code",
   "execution_count": 7,
   "id": "2b5e02e7",
   "metadata": {},
   "outputs": [
    {
     "name": "stdout",
     "output_type": "stream",
     "text": [
      "printing something in new line\n",
      "newline\n"
     ]
    }
   ],
   "source": [
    "print(\"printing something in new line\",end = '\\n')\n",
    "print(\"newline\")"
   ]
  },
  {
   "cell_type": "markdown",
   "id": "d3b22b35",
   "metadata": {},
   "source": [
    "Qstn5 : What are the values of the given expressions?\n",
    "        \n",
    "        'Hello, world!'[1]\n",
    "        'Hello, world!'[0:5]\n",
    "        'Hello, world!'[:5]\n",
    "        'Hello, world!'[3:]\n",
    "        "
   ]
  },
  {
   "cell_type": "code",
   "execution_count": 11,
   "id": "0b13ca62",
   "metadata": {},
   "outputs": [
    {
     "data": {
      "text/plain": [
       "'e'"
      ]
     },
     "execution_count": 11,
     "metadata": {},
     "output_type": "execute_result"
    }
   ],
   "source": [
    "'Hello, world!'[1]"
   ]
  },
  {
   "cell_type": "code",
   "execution_count": 12,
   "id": "3edb0823",
   "metadata": {},
   "outputs": [
    {
     "data": {
      "text/plain": [
       "'Hello'"
      ]
     },
     "execution_count": 12,
     "metadata": {},
     "output_type": "execute_result"
    }
   ],
   "source": [
    "'Hello, world!'[0:5]"
   ]
  },
  {
   "cell_type": "code",
   "execution_count": 13,
   "id": "d9943e4d",
   "metadata": {},
   "outputs": [
    {
     "data": {
      "text/plain": [
       "'Hello'"
      ]
     },
     "execution_count": 13,
     "metadata": {},
     "output_type": "execute_result"
    }
   ],
   "source": [
    "'Hello, world!'[:5]"
   ]
  },
  {
   "cell_type": "code",
   "execution_count": 14,
   "id": "32f4f6eb",
   "metadata": {},
   "outputs": [
    {
     "data": {
      "text/plain": [
       "'lo, world!'"
      ]
     },
     "execution_count": 14,
     "metadata": {},
     "output_type": "execute_result"
    }
   ],
   "source": [
    "'Hello, world!'[3:]"
   ]
  },
  {
   "cell_type": "markdown",
   "id": "e4bc6ca6",
   "metadata": {},
   "source": [
    "Qstn 7 : What are the values of the following expressions?\n",
    "       \n",
    "       'Hello'.upper() \n",
    "        'Hello'.upper().isupper() \n",
    "        'Hello'.upper().lower()"
   ]
  },
  {
   "cell_type": "code",
   "execution_count": 15,
   "id": "a6022cf3",
   "metadata": {},
   "outputs": [
    {
     "data": {
      "text/plain": [
       "'HELLO'"
      ]
     },
     "execution_count": 15,
     "metadata": {},
     "output_type": "execute_result"
    }
   ],
   "source": [
    "'Hello'.upper() "
   ]
  },
  {
   "cell_type": "code",
   "execution_count": 16,
   "id": "f10e6536",
   "metadata": {},
   "outputs": [
    {
     "data": {
      "text/plain": [
       "True"
      ]
     },
     "execution_count": 16,
     "metadata": {},
     "output_type": "execute_result"
    }
   ],
   "source": [
    "'Hello'.upper().isupper() "
   ]
  },
  {
   "cell_type": "code",
   "execution_count": 17,
   "id": "b9f5af13",
   "metadata": {},
   "outputs": [
    {
     "data": {
      "text/plain": [
       "'hello'"
      ]
     },
     "execution_count": 17,
     "metadata": {},
     "output_type": "execute_result"
    }
   ],
   "source": [
    "'Hello'.upper().lower()"
   ]
  },
  {
   "cell_type": "markdown",
   "id": "6cca6a1b",
   "metadata": {},
   "source": [
    "Qstn8 : What are the values of the following expressions? \n",
    "        \n",
    "        'Remember, remember, the fifth of July.'.split()\n",
    "        '-'.join('There can only one.'.split())"
   ]
  },
  {
   "cell_type": "code",
   "execution_count": 19,
   "id": "7fee0d11",
   "metadata": {},
   "outputs": [
    {
     "data": {
      "text/plain": [
       "['Remember,', 'remember,', 'the', 'fifth', 'of', 'July.']"
      ]
     },
     "execution_count": 19,
     "metadata": {},
     "output_type": "execute_result"
    }
   ],
   "source": [
    "'Remember, remember, the fifth of July.'.split() "
   ]
  },
  {
   "cell_type": "code",
   "execution_count": 20,
   "id": "b75233af",
   "metadata": {},
   "outputs": [
    {
     "data": {
      "text/plain": [
       "'There-can-only-one.'"
      ]
     },
     "execution_count": 20,
     "metadata": {},
     "output_type": "execute_result"
    }
   ],
   "source": [
    "'-'.join('There can only one.'.split())"
   ]
  },
  {
   "cell_type": "markdown",
   "id": "a2b7eb1a",
   "metadata": {},
   "source": [
    "Qstn9 : What are the methods for right-justifying, left-justifying, and centering a string?\n",
    "\n",
    "\n",
    "Answer : ljus(),rjust() and center()\n"
   ]
  },
  {
   "cell_type": "code",
   "execution_count": 22,
   "id": "bb7dc958",
   "metadata": {},
   "outputs": [
    {
     "data": {
      "text/plain": [
       "'Shudh*****'"
      ]
     },
     "execution_count": 22,
     "metadata": {},
     "output_type": "execute_result"
    }
   ],
   "source": [
    "# left justified\n",
    "str =\"Shudh\"\n",
    "str.ljust(10,\"*\")"
   ]
  },
  {
   "cell_type": "code",
   "execution_count": 23,
   "id": "ae46b50d",
   "metadata": {},
   "outputs": [
    {
     "data": {
      "text/plain": [
       "'******************************My name is'"
      ]
     },
     "execution_count": 23,
     "metadata": {},
     "output_type": "execute_result"
    }
   ],
   "source": [
    "# right justified\n",
    "str =\"My name is\"\n",
    "str.rjust(40,'*')"
   ]
  },
  {
   "cell_type": "code",
   "execution_count": 24,
   "id": "585dd19e",
   "metadata": {},
   "outputs": [
    {
     "data": {
      "text/plain": [
       "'***************My name is***************'"
      ]
     },
     "execution_count": 24,
     "metadata": {},
     "output_type": "execute_result"
    }
   ],
   "source": [
    "# center justified\n",
    "str =\"My name is\"\n",
    "str.center(40,'*')"
   ]
  },
  {
   "cell_type": "markdown",
   "id": "77df696d",
   "metadata": {},
   "source": [
    "Qstn10 : What is the best way to remove whitespace characters from the start or end?\n",
    "\n",
    "\n",
    "Answer : lstrip() and rstrip()"
   ]
  },
  {
   "cell_type": "code",
   "execution_count": 25,
   "id": "2305f535",
   "metadata": {},
   "outputs": [
    {
     "data": {
      "text/plain": [
       "'hello world  '"
      ]
     },
     "execution_count": 25,
     "metadata": {},
     "output_type": "execute_result"
    }
   ],
   "source": [
    "str =\"  hello world  \"\n",
    "str.lstrip()"
   ]
  },
  {
   "cell_type": "code",
   "execution_count": 26,
   "id": "d7616577",
   "metadata": {},
   "outputs": [
    {
     "data": {
      "text/plain": [
       "'  hello world'"
      ]
     },
     "execution_count": 26,
     "metadata": {},
     "output_type": "execute_result"
    }
   ],
   "source": [
    "str =\"  hello world  \"\n",
    "str.rstrip()"
   ]
  },
  {
   "cell_type": "code",
   "execution_count": null,
   "id": "4f77839e",
   "metadata": {},
   "outputs": [],
   "source": []
  }
 ],
 "metadata": {
  "kernelspec": {
   "display_name": "Python 3",
   "language": "python",
   "name": "python3"
  },
  "language_info": {
   "codemirror_mode": {
    "name": "ipython",
    "version": 3
   },
   "file_extension": ".py",
   "mimetype": "text/x-python",
   "name": "python",
   "nbconvert_exporter": "python",
   "pygments_lexer": "ipython3",
   "version": "3.8.8"
  }
 },
 "nbformat": 4,
 "nbformat_minor": 5
}
