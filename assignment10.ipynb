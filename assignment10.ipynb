{
 "cells": [
  {
   "cell_type": "markdown",
   "id": "bae94cc9",
   "metadata": {},
   "source": [
    "# Assignment 10"
   ]
  },
  {
   "cell_type": "markdown",
   "id": "af50bfdc",
   "metadata": {},
   "source": [
    "Qstn 1 : How do you distinguish between shutil.copy() and shutil.copytree()?\n",
    "\n",
    "\n",
    "Answer : \n",
    "\n",
    "shutil.copy() will copy a single file,\n",
    "shutil.copytree() will copy an entire folder and every folder and file contained in it."
   ]
  },
  {
   "cell_type": "markdown",
   "id": "2912880d",
   "metadata": {},
   "source": [
    "Qstn 2 : What function is used to rename files??\n",
    "\n",
    "\n",
    "\n",
    "Answer : \n",
    "\n",
    "rename() function is used to change the name of the file or directory."
   ]
  },
  {
   "cell_type": "markdown",
   "id": "31056db5",
   "metadata": {},
   "source": [
    "Qstn 3 : What is the difference between the delete functions in the send2trash and shutil modules?\n",
    "\n",
    "\n",
    "Answer : \n",
    "\n",
    "The send2trash functions will move a file or folder to the recycle bin, while shutil functions will permanently delete files and folders."
   ]
  },
  {
   "cell_type": "markdown",
   "id": "d1cfa430",
   "metadata": {},
   "source": [
    "Qstn 4 : ZipFile objects have a close() method just like File objects’ close() method. What ZipFile method is equivalent to File          objects’ open() method?\n",
    "\n",
    "\n",
    "Answer : \n",
    "\n",
    "The zipfile. ZipFile() function is equivalent to the open() function."
   ]
  },
  {
   "cell_type": "markdown",
   "id": "49cc86d9",
   "metadata": {},
   "source": [
    "Qstn 5 : Create a programme that searches a folder tree for files with a certain file extension (such as .pdf or .jpg). Copy              these files from whatever location they are in to a new folder."
   ]
  },
  {
   "cell_type": "code",
   "execution_count": 77,
   "id": "4f89f2e1",
   "metadata": {},
   "outputs": [],
   "source": [
    "import os\n",
    "import shutil\n",
    "def moveFileType(folder):\n",
    "    for folderName, subfolders, filenames in os.walk(folder):\n",
    "        for filename in filenames:\n",
    "            if filename.endswith('.jpg'):\n",
    "                shutil.copy(os.path.join(folderName, filename), r'C:\\Users\\ASUS\\Desktop\\photo')\n",
    "\n"
   ]
  },
  {
   "cell_type": "code",
   "execution_count": 78,
   "id": "b3fb8113",
   "metadata": {},
   "outputs": [],
   "source": [
    "moveFileType(r'C:\\Users\\ASUS\\Desktop\\code')"
   ]
  },
  {
   "cell_type": "code",
   "execution_count": null,
   "id": "bb63321a",
   "metadata": {},
   "outputs": [],
   "source": []
  }
 ],
 "metadata": {
  "kernelspec": {
   "display_name": "Python 3",
   "language": "python",
   "name": "python3"
  },
  "language_info": {
   "codemirror_mode": {
    "name": "ipython",
    "version": 3
   },
   "file_extension": ".py",
   "mimetype": "text/x-python",
   "name": "python",
   "nbconvert_exporter": "python",
   "pygments_lexer": "ipython3",
   "version": "3.8.8"
  }
 },
 "nbformat": 4,
 "nbformat_minor": 5
}
