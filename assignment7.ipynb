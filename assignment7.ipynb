{
 "cells": [
  {
   "cell_type": "markdown",
   "id": "7b641522",
   "metadata": {},
   "source": [
    "# Assignment 7"
   ]
  },
  {
   "cell_type": "markdown",
   "id": "abdfba1a",
   "metadata": {},
   "source": [
    "Qstn1 : What is the name of the feature responsible for generating Regex objects?\n",
    "\n",
    "\n",
    "\n",
    "Answer : A Regular Expressions (RegEx) is a special sequence of characters that uses a search pattern to find a string or set of          strings.The re.compile() function returns Regex objects."
   ]
  },
  {
   "cell_type": "markdown",
   "id": "788cba1e",
   "metadata": {},
   "source": [
    "Qstn2 : Why do raw strings often appear in Regex objects?\n",
    "\n",
    "\n",
    "Answer : Raw strings are used so that backslashes do not have to be escaped."
   ]
  },
  {
   "cell_type": "markdown",
   "id": "fc924e12",
   "metadata": {},
   "source": [
    "Qstn3 : What is the return value of the search() method?\n",
    "\n",
    "\n",
    "Answer : The search() method returns Match objects."
   ]
  },
  {
   "cell_type": "markdown",
   "id": "ba788f44",
   "metadata": {},
   "source": [
    "Qstn4: From a Match item, how do you get the actual strings that match the pattern?\n",
    "\n",
    "\n",
    "Answer : The group() method returns strings of the matched text."
   ]
  },
  {
   "cell_type": "markdown",
   "id": "1a638fab",
   "metadata": {},
   "source": [
    "Qstn5 : In the regex which created from the r'(\\d\\d\\d)-(\\d\\d\\d-\\d\\d\\d\\d)', what does group zero cover?\n",
    "        Group 2? Group 1?\n",
    "        \n",
    "        \n",
    "Answer : Group zero- The entire match\n",
    "         Group 1 - It coverse the first set of parentheses\n",
    "         Group 2 - coverse second set of parentheses"
   ]
  },
  {
   "cell_type": "markdown",
   "id": "ca86508d",
   "metadata": {},
   "source": [
    "Qstn6: In standard expression syntax, parentheses and intervals have distinct meanings. How can you tell a regex that you want          it to fit real parentheses and periods?\n",
    "\n",
    "\n",
    "Answer : Periods and parentheses can be escaped with a backslash: \\., \\(, and \\)."
   ]
  },
  {
   "cell_type": "markdown",
   "id": "7370fb88",
   "metadata": {},
   "source": [
    "Qstn7: The findall() method returns a string list or a list of string tuples. What causes it to return one of\n",
    "       the two options?\n",
    "       \n",
    "       \n",
    "       \n",
    "Answer : If the regex has no groups, a list of strings is returned.\n",
    "         If the regex has groups, a list of string tuples is returned."
   ]
  },
  {
   "cell_type": "markdown",
   "id": "1af9ecd2",
   "metadata": {},
   "source": [
    "Qstn8 : In standard expressions, what does the | character mean?\n",
    "\n",
    "\n",
    "Answer : The | character signifies matching \"either, or\" between two groups"
   ]
  },
  {
   "cell_type": "markdown",
   "id": "61cfed3c",
   "metadata": {},
   "source": [
    "Qstn9: In regular expressions, what does the character stand for?\n",
    "\n",
    "\n",
    "Answer : This question not specified the character."
   ]
  },
  {
   "cell_type": "markdown",
   "id": "810d62de",
   "metadata": {},
   "source": [
    "Qstn10: In regular expressions, what is the difference between the + and * characters?\n",
    "\n",
    "\n",
    "Answer : The + matches one or more. The * matches zero or more."
   ]
  },
  {
   "cell_type": "markdown",
   "id": "ef4271f3",
   "metadata": {},
   "source": [
    "Qstn11: What is the difference between {4} and {4,5} in regular expression?\n",
    "\n",
    "\n",
    "\n",
    "Answer : {m, n} – Braces\n",
    "         Braces match any repetitions preceding regex from m to n both inclusive.\n",
    "         {4,5} - from 4 to 5 both inclusive.(atleast 4 ,atmost 5 times)\n",
    "         {4} - 4 times\n",
    "         \n",
    "         eg: a{4} = contains {aaaa}\n",
    "             a{4,5} = contains {aaaa,aaaaa}"
   ]
  },
  {
   "cell_type": "markdown",
   "id": "4a1ceab7",
   "metadata": {},
   "source": [
    "Qstn12: What do you mean by the \\d, \\w, and \\s shorthand character classes signify in regular expressions?\n",
    "\n",
    "\n",
    "Answer : \n",
    "         \\d - Matches any decimal digit, this is equivalent to the set class [0-9]\n",
    "\n",
    "         \\w - Matches any alphanumeric character, this is equivalent to the class [a-zA-Z0-9_].\n",
    "         \n",
    "         \\s - Matches any whitespace character."
   ]
  },
  {
   "cell_type": "markdown",
   "id": "b09309e4",
   "metadata": {},
   "source": [
    "Qstn13: What do means by \\D, \\W, and \\S shorthand character classes signify in regular expressions?\n",
    "\n",
    "\n",
    "\n",
    "Answer : \\D - Matches any non-digit character, this is equivalent to the set class [^0-9]\n",
    "\n",
    "         \\W - Matches any non-alphanumeric character.\n",
    "         \n",
    "         \\S - Matches any non-whitespace character\n",
    "          "
   ]
  },
  {
   "cell_type": "markdown",
   "id": "48d4f493",
   "metadata": {},
   "source": [
    "Qstn14: What is the difference between .*? and .*?\n",
    "\n",
    "\n",
    "\n",
    "Answer : .*? = indicates one or more symbols. (same symbols are given in the question)"
   ]
  },
  {
   "cell_type": "markdown",
   "id": "7702f00f",
   "metadata": {},
   "source": [
    "Qstn15: What is the syntax for matching both numbers and lowercase letters with a character class?\n",
    "\n",
    "\n",
    "\n",
    "Answer : The synatax for matching both numbers and lowercase letters with a character class  either [0-9a-z] or [a-z0-9] "
   ]
  },
  {
   "cell_type": "markdown",
   "id": "40f3f02a",
   "metadata": {},
   "source": [
    "Qstn16: What is the procedure for making a normal expression in regax case insensitive?\n",
    "\n",
    "\n",
    "\n",
    "Answer : 1. use case insensitive re.IGNORECASE flag\n",
    "          eg:   import re\n",
    "                re.search('the', 'ThE', re.IGNORECASE)\n",
    "                \n",
    "         2. use case insensitive marker (?i)\n",
    "         \n",
    "           eg: (?i)G[a-b]."
   ]
  },
  {
   "cell_type": "markdown",
   "id": "472dd2dd",
   "metadata": {},
   "source": [
    "Qstn17: What does the . character normally match? What does it match if re.DOTALL is passed as 2nd argument in re.compile()?\n",
    "\n",
    "\n",
    "\n",
    "Answer : . character normally matches any character except the newline character. If re. DOTALL is passed as the second argument            to re. compile(), then the dot will also match newline characters."
   ]
  },
  {
   "cell_type": "markdown",
   "id": "74d0a5a3",
   "metadata": {},
   "source": [
    "Qstn18: If numReg = re.compile(r'\\d+'), what will numRegex.sub('X', '11 drummers, 10 pipers, five rings, 4hen') return?"
   ]
  },
  {
   "cell_type": "code",
   "execution_count": 17,
   "id": "00d62d96",
   "metadata": {},
   "outputs": [
    {
     "data": {
      "text/plain": [
       "'X drummers, X pipers, five rings, X hens'"
      ]
     },
     "execution_count": 17,
     "metadata": {},
     "output_type": "execute_result"
    }
   ],
   "source": [
    "import re\n",
    "numReg = re.compile(r'\\d+') \n",
    "numReg.sub('X','12 drummers, 11 pipers, five rings, 3 hens')"
   ]
  },
  {
   "cell_type": "markdown",
   "id": "8e06b2ea",
   "metadata": {},
   "source": [
    "Qstn19: What does passing re.VERBOSE as the 2nd argument to re.compile() allow to do?\n",
    "\n",
    "\n",
    "Answer: The re.VERBOSE argument allows you to add whitespace and comments to the string passed to re.compile()"
   ]
  },
  {
   "cell_type": "markdown",
   "id": "90d7760b",
   "metadata": {},
   "source": [
    "Qstn20: How would you write a regex that matches a number with commas for every three digits? It must match the following:\n",
    "\n",
    "        '42'\n",
    "\n",
    "        '1,234'\n",
    "\n",
    "        '6,368,745'\n",
    "\n",
    "        but not the following:\n",
    "\n",
    "        '12,34,567' (which has only two digits between the commas)\n",
    "\n",
    "         '1234' (which lacks commas)"
   ]
  },
  {
   "cell_type": "code",
   "execution_count": 34,
   "id": "be7f0d7c",
   "metadata": {},
   "outputs": [
    {
     "data": {
      "text/plain": [
       "['1,234', '6,368', '34,567']"
      ]
     },
     "execution_count": 34,
     "metadata": {},
     "output_type": "execute_result"
    }
   ],
   "source": [
    "import re\n",
    "numCommas = re.compile(r'\\d+\\,\\d{3}')\n",
    "numCommas.findall('42 1,234 6,368,745 12,34,567  1234')"
   ]
  },
  {
   "cell_type": "markdown",
   "id": "8e9cbf54",
   "metadata": {},
   "source": [
    "Qstn21: How would you write a regex that matches the full name of someone whose last name is Watanabe? You can assume that the           first name that comes before it will always be one word thatbegins with a capital letter. The regex must match the               following:\n",
    "\n",
    "         'Haruto Watanabe'\n",
    "\n",
    "          'Alice Watanabe'\n",
    "\n",
    "          'RoboCop Watanabe'\n",
    "\n",
    "   but not the following:\n",
    "\n",
    "       'haruto Watanabe' (where the first name is not capitalized)\n",
    "\n",
    "        'Mr. Watanabe' (where the preceding word has a nonletter character)\n",
    "\n",
    "      'Watanabe' (which has no first name)\n",
    "\n",
    "       'Haruto watanabe' (where Watanabe is not capitalized)"
   ]
  },
  {
   "cell_type": "code",
   "execution_count": 71,
   "id": "3b51d1e8",
   "metadata": {},
   "outputs": [
    {
     "name": "stdout",
     "output_type": "stream",
     "text": [
      " Alice Watanabe\n"
     ]
    }
   ],
   "source": [
    "import re\n",
    "fullName = re.compile(r'\\s([A-Z]\\w+)\\s(Watanabe)') \n",
    "name = fullName.search('haruto Watanabe  Alice Watanabe Mr. Watanabe Watanabe Haruto watanabe ')\n",
    "print(name.group())"
   ]
  },
  {
   "cell_type": "code",
   "execution_count": 83,
   "id": "e5717b65",
   "metadata": {},
   "outputs": [
    {
     "name": "stdout",
     "output_type": "stream",
     "text": [
      "[('Alice', 'Watanabe'), ('RoboCop', 'Watanabe'), ('Haruto', 'Watanabe')]\n"
     ]
    }
   ],
   "source": [
    "import re\n",
    "fullName = re.compile(r'\\s([A-Z]\\w+)\\s(Watanabe)') \n",
    "name = fullName.findall('haruto Watanabe Alice Watanabe Mr. Watanabe Haruto watanabe RoboCop Watanabe Haruto Watanabe ')\n",
    "print(name)"
   ]
  },
  {
   "cell_type": "markdown",
   "id": "55811b58",
   "metadata": {},
   "source": [
    "Qstn22: How would you write a regex that matches a sentence where the first word is either Alice, Bob, or Carol; the second word         is either eats, pets, or throws; the third word is apples, cats, or baseballs; and the sentence ends with a period? This         regex should be case-insensitive. It must match the following:\n",
    "        \n",
    "        'Alice eats apples.'\n",
    "\n",
    "         'Bob pets cats.'\n",
    "\n",
    "         'Carol throws baseballs.'\n",
    "\n",
    "         'Alice throws Apples.'\n",
    "\n",
    "          'BOB EATS CATS.'\n",
    "\n",
    " but not the following:\n",
    "\n",
    "          'Robocop eats apples.'\n",
    "\n",
    "          'ALICE THROWS FOOTBALLS.'\n",
    "\n",
    "           'Carol eats 7 cats.'"
   ]
  },
  {
   "cell_type": "code",
   "execution_count": 85,
   "id": "4a0c7d2b",
   "metadata": {},
   "outputs": [
    {
     "data": {
      "text/plain": [
       "[('Alice', 'eats', 'apples'),\n",
       " ('Bob', 'pets', 'cats'),\n",
       " ('Carol', 'throws', 'baseballs'),\n",
       " ('Alice', 'throws', 'Apples'),\n",
       " ('BOB', 'EATS', 'CATS')]"
      ]
     },
     "execution_count": 85,
     "metadata": {},
     "output_type": "execute_result"
    }
   ],
   "source": [
    "import re\n",
    "sent= re.compile(r'(Alice|Bob|Carol)\\s(eats|pets|throws)\\s(apples|cats|baseballs).', re.I|re.DOTALL)\n",
    "\n",
    "sent.findall('''Alice eats apples.'\n",
    "\n",
    "'Bob pets cats.'\n",
    "\n",
    "'Carol throws baseballs.'\n",
    "\n",
    "'Alice throws Apples.'\n",
    "\n",
    "'BOB EATS CATS.'\n",
    "\n",
    "but not the following:\n",
    "\n",
    "'Robocop eats apples.'\n",
    "\n",
    "'ALICE THROWS FOOTBALLS.'\n",
    "\n",
    "'Carol eats 7 cats.''')"
   ]
  },
  {
   "cell_type": "code",
   "execution_count": null,
   "id": "8200fc76",
   "metadata": {},
   "outputs": [],
   "source": []
  }
 ],
 "metadata": {
  "kernelspec": {
   "display_name": "Python 3",
   "language": "python",
   "name": "python3"
  },
  "language_info": {
   "codemirror_mode": {
    "name": "ipython",
    "version": 3
   },
   "file_extension": ".py",
   "mimetype": "text/x-python",
   "name": "python",
   "nbconvert_exporter": "python",
   "pygments_lexer": "ipython3",
   "version": "3.8.8"
  }
 },
 "nbformat": 4,
 "nbformat_minor": 5
}
