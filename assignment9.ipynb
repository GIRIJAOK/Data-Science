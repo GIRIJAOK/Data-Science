{
 "cells": [
  {
   "cell_type": "markdown",
   "id": "af4ee06d",
   "metadata": {},
   "source": [
    "# Assignment 9"
   ]
  },
  {
   "cell_type": "markdown",
   "id": "3804227f",
   "metadata": {},
   "source": [
    "Qstn 1 : To what does a relative path refer?\n",
    "\n",
    "\n",
    "\n",
    "Answer : \n",
    "\n",
    "A relative file path is interpreted from the perspective your current working directory.If you use a relative file path from the wrong directory, then the path will refer to a different file than you intend, or it will refer to no file at all."
   ]
  },
  {
   "cell_type": "markdown",
   "id": "88c932b7",
   "metadata": {},
   "source": [
    "Qstn 2 : What does an absolute path start with your operating system?\n",
    "\n",
    "\n",
    "\n",
    "Answer : \n",
    "\n",
    "Absolute paths start with the root folder, such as / or C:\\."
   ]
  },
  {
   "cell_type": "markdown",
   "id": "6b0d1b08",
   "metadata": {},
   "source": [
    "Qstn 3 : What do the functions os.getcwd() and os.chdir() do?\n",
    "\n",
    "\n",
    "\n",
    "answer : \n",
    "\n",
    "getcwd() : CWD stands for Current Working Directory. This function used to know the cuurent working directory.\n",
    "\n",
    "chdir() : Short for CHange DIRectory, this function  used to change the current working directory to specified path."
   ]
  },
  {
   "cell_type": "markdown",
   "id": "de0ef850",
   "metadata": {},
   "source": [
    "Qstn 4 : What are the . and .. folders?\n",
    "\n",
    "\n",
    "\n",
    "Answers : \n",
    "\n",
    ".  means current folder\n",
    "\n",
    ".. means parent folder"
   ]
  },
  {
   "cell_type": "markdown",
   "id": "d775269c",
   "metadata": {},
   "source": [
    "Qstn 5 : In C:\\bacon\\eggs\\spam.txt, which part is the dir name, and which part is the base name?\n",
    "\n",
    "\n",
    "\n",
    "Answer : \n",
    "\n",
    "c:\\bacon\\eggs - dir name\n",
    "spam.txt -base name"
   ]
  },
  {
   "cell_type": "markdown",
   "id": "a498281b",
   "metadata": {},
   "source": [
    "Qstn 6 : What are the three “mode” arguments that can be passed to the open() function?\n",
    "\n",
    "\n",
    "Answer : \n",
    "\n",
    "'r' = read mode\n",
    "'w' = write mode\n",
    "\n",
    "'a' = append mode"
   ]
  },
  {
   "cell_type": "markdown",
   "id": "f836d65d",
   "metadata": {},
   "source": [
    "Qstn 7 : What happens if an existing file is opened in write mode?\n",
    "\n",
    "\n",
    "\n",
    "Answer : \n",
    "\n",
    "It erased and overwritten completely"
   ]
  },
  {
   "cell_type": "markdown",
   "id": "d66661da",
   "metadata": {},
   "source": [
    "Qstn 8 : How do you tell the difference between read() and readlines()?\n",
    "\n",
    "\n",
    "Answer : \n",
    "\n",
    "read() - Returns entire file content as a single string value.\n",
    "readline()  method get a list of string values from the file, one string for each line of text."
   ]
  },
  {
   "cell_type": "markdown",
   "id": "8c487456",
   "metadata": {},
   "source": [
    "Qstn 9 : What data structure does a shelf value resemble?\n",
    "\n",
    "\n",
    "Answer : \n",
    "\n",
    "A shelf value resemble dictionary data structure."
   ]
  }
 ],
 "metadata": {
  "kernelspec": {
   "display_name": "Python 3",
   "language": "python",
   "name": "python3"
  },
  "language_info": {
   "codemirror_mode": {
    "name": "ipython",
    "version": 3
   },
   "file_extension": ".py",
   "mimetype": "text/x-python",
   "name": "python",
   "nbconvert_exporter": "python",
   "pygments_lexer": "ipython3",
   "version": "3.8.8"
  }
 },
 "nbformat": 4,
 "nbformat_minor": 5
}
