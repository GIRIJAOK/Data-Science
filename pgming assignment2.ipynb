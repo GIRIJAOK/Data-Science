{
 "cells": [
  {
   "cell_type": "markdown",
   "id": "d01497bc",
   "metadata": {},
   "source": [
    "# Programming Assignment-2"
   ]
  },
  {
   "cell_type": "markdown",
   "id": "786f6b86",
   "metadata": {},
   "source": [
    "1. Write a Python program to convert kilometers to miles?"
   ]
  },
  {
   "cell_type": "code",
   "execution_count": 7,
   "id": "0ff0bbd8",
   "metadata": {},
   "outputs": [
    {
     "name": "stdout",
     "output_type": "stream",
     "text": [
      "enter the kilo meter want to convert:5\n",
      "5.0 kilo meter is equal to  3.106855 miles\n"
     ]
    }
   ],
   "source": [
    "one_kl = .621371 # one kilo meter = .621371 miles\n",
    "KL = float(input(\"enter the kilo meter want to convert:\"))\n",
    "miles = KL* one_kl\n",
    "print(KL , \"kilo meter is equal to \" , miles ,\"miles\")"
   ]
  },
  {
   "cell_type": "markdown",
   "id": "77552a98",
   "metadata": {},
   "source": [
    "2. Write a Python program to convert Celsius to Fahrenheit?"
   ]
  },
  {
   "cell_type": "code",
   "execution_count": 12,
   "id": "867acd35",
   "metadata": {},
   "outputs": [
    {
     "name": "stdout",
     "output_type": "stream",
     "text": [
      "enter the kilo Celsius want to convert:37.8\n",
      "37.8 celsius is equal to  100.04  fahrenheit\n"
     ]
    }
   ],
   "source": [
    "C = float(input(\"enter the kilo Celsius want to convert:\"))\n",
    "s = 1.8 # s = 9/5\n",
    "F = \"{:.2f}\".format(C * s +32)\n",
    "print(C , \"celsius is equal to \" , F , \" fahrenheit\")"
   ]
  },
  {
   "cell_type": "markdown",
   "id": "e18e3fd2",
   "metadata": {},
   "source": [
    "3. Write a Python program to display calendar?"
   ]
  },
  {
   "cell_type": "code",
   "execution_count": 19,
   "id": "7595ab19",
   "metadata": {},
   "outputs": [
    {
     "name": "stdout",
     "output_type": "stream",
     "text": [
      "Enter year:2021\n",
      "                                  2021\n",
      "\n",
      "      January                   February                   March\n",
      "Mo Tu We Th Fr Sa Su      Mo Tu We Th Fr Sa Su      Mo Tu We Th Fr Sa Su\n",
      "             1  2  3       1  2  3  4  5  6  7       1  2  3  4  5  6  7\n",
      " 4  5  6  7  8  9 10       8  9 10 11 12 13 14       8  9 10 11 12 13 14\n",
      "11 12 13 14 15 16 17      15 16 17 18 19 20 21      15 16 17 18 19 20 21\n",
      "18 19 20 21 22 23 24      22 23 24 25 26 27 28      22 23 24 25 26 27 28\n",
      "25 26 27 28 29 30 31                                29 30 31\n",
      "\n",
      "       April                      May                       June\n",
      "Mo Tu We Th Fr Sa Su      Mo Tu We Th Fr Sa Su      Mo Tu We Th Fr Sa Su\n",
      "          1  2  3  4                      1  2          1  2  3  4  5  6\n",
      " 5  6  7  8  9 10 11       3  4  5  6  7  8  9       7  8  9 10 11 12 13\n",
      "12 13 14 15 16 17 18      10 11 12 13 14 15 16      14 15 16 17 18 19 20\n",
      "19 20 21 22 23 24 25      17 18 19 20 21 22 23      21 22 23 24 25 26 27\n",
      "26 27 28 29 30            24 25 26 27 28 29 30      28 29 30\n",
      "                          31\n",
      "\n",
      "        July                     August                  September\n",
      "Mo Tu We Th Fr Sa Su      Mo Tu We Th Fr Sa Su      Mo Tu We Th Fr Sa Su\n",
      "          1  2  3  4                         1             1  2  3  4  5\n",
      " 5  6  7  8  9 10 11       2  3  4  5  6  7  8       6  7  8  9 10 11 12\n",
      "12 13 14 15 16 17 18       9 10 11 12 13 14 15      13 14 15 16 17 18 19\n",
      "19 20 21 22 23 24 25      16 17 18 19 20 21 22      20 21 22 23 24 25 26\n",
      "26 27 28 29 30 31         23 24 25 26 27 28 29      27 28 29 30\n",
      "                          30 31\n",
      "\n",
      "      October                   November                  December\n",
      "Mo Tu We Th Fr Sa Su      Mo Tu We Th Fr Sa Su      Mo Tu We Th Fr Sa Su\n",
      "             1  2  3       1  2  3  4  5  6  7             1  2  3  4  5\n",
      " 4  5  6  7  8  9 10       8  9 10 11 12 13 14       6  7  8  9 10 11 12\n",
      "11 12 13 14 15 16 17      15 16 17 18 19 20 21      13 14 15 16 17 18 19\n",
      "18 19 20 21 22 23 24      22 23 24 25 26 27 28      20 21 22 23 24 25 26\n",
      "25 26 27 28 29 30 31      29 30                     27 28 29 30 31\n",
      "\n"
     ]
    }
   ],
   "source": [
    "import calendar\n",
    "year= int(input(\"Enter year:\"))\n",
    "print(calendar.calendar(year)) "
   ]
  },
  {
   "cell_type": "code",
   "execution_count": 21,
   "id": "e01f6402",
   "metadata": {},
   "outputs": [
    {
     "name": "stdout",
     "output_type": "stream",
     "text": [
      "Enter year:2020\n",
      "Enter month:3\n",
      "     March 2020\n",
      "Mo Tu We Th Fr Sa Su\n",
      "                   1\n",
      " 2  3  4  5  6  7  8\n",
      " 9 10 11 12 13 14 15\n",
      "16 17 18 19 20 21 22\n",
      "23 24 25 26 27 28 29\n",
      "30 31\n",
      "\n"
     ]
    }
   ],
   "source": [
    "import calendar\n",
    "year= int(input(\"Enter year:\"))\n",
    "month = int(input(\"Enter month:\"))\n",
    "print(calendar.month(year,month))"
   ]
  },
  {
   "cell_type": "markdown",
   "id": "75b3e696",
   "metadata": {},
   "source": [
    "4. Write a Python program to solve quadratic equation?"
   ]
  },
  {
   "cell_type": "code",
   "execution_count": 34,
   "id": "f140dd1a",
   "metadata": {},
   "outputs": [
    {
     "name": "stdout",
     "output_type": "stream",
     "text": [
      "Enter a: 8\n",
      "Enter b: 5\n",
      "Enter c: 9\n",
      "The solution are (-0.3125-1.0135796712641785j) and (-0.3125+1.0135796712641785j)\n"
     ]
    }
   ],
   "source": [
    "import cmath  \n",
    "a = float(input('Enter a: '))  \n",
    "b = float(input('Enter b: '))  \n",
    "c = float(input('Enter c: '))  \n",
    "  \n",
    "# calculate the discriminant  \n",
    "d = (b**2) - (4*a*c)  \n",
    "  \n",
    "# find two solutions  \n",
    "sol1 = (-b-cmath.sqrt(d))/(2*a)  \n",
    "sol2 = (-b+cmath.sqrt(d))/(2*a)  \n",
    "print('The solution are {0} and {1}'.format(sol1,sol2))   "
   ]
  },
  {
   "cell_type": "code",
   "execution_count": 42,
   "id": "f65bc364",
   "metadata": {},
   "outputs": [],
   "source": [
    "import math\n",
    "def quad(a,b,c):\n",
    "    d = b * b - 4 * a * c \n",
    "    s = math.sqrt(abs(d))\n",
    "    if d > 0 :\n",
    "        print((-b + s)/(2 * a)) \n",
    "        print((-b - s)/(2 * a))\n",
    "        \n",
    "    elif d == 0:\n",
    "         print(-b / (2 * a)) \n",
    "            \n",
    "    else:\n",
    "        print(- b / (2 * a), \" + i\", s) \n",
    "        print(- b / (2 * a), \" - i\", s)\n"
   ]
  },
  {
   "cell_type": "code",
   "execution_count": 40,
   "id": "0cca45e9",
   "metadata": {},
   "outputs": [
    {
     "name": "stdout",
     "output_type": "stream",
     "text": [
      "1.358898943540674\n",
      "-7.358898943540674\n"
     ]
    }
   ],
   "source": [
    "quad(2,12,-20)"
   ]
  },
  {
   "cell_type": "markdown",
   "id": "b0a359d1",
   "metadata": {},
   "source": [
    "5. Write a Python program to swap two variables without temp variable?"
   ]
  },
  {
   "cell_type": "code",
   "execution_count": 43,
   "id": "4516e28d",
   "metadata": {},
   "outputs": [
    {
     "name": "stdout",
     "output_type": "stream",
     "text": [
      "Enter first number:20\n",
      "Enter second number:50\n",
      "Before swapping: Value of a: 20 and b: 50\n",
      "Before swapping: Value of a: 50 and b: 20\n"
     ]
    }
   ],
   "source": [
    "a = int(input(\"Enter first number:\"))\n",
    "b = int(input(\"Enter second number:\"))\n",
    "print(\"Before swapping:\" ,\"Value of a:\",a,\"and b:\",b)\n",
    "\n",
    "a , b = b,a\n",
    "\n",
    "print(\"Before swapping:\" ,\"Value of a:\",a,\"and b:\",b)    "
   ]
  },
  {
   "cell_type": "code",
   "execution_count": 44,
   "id": "b03c53fe",
   "metadata": {},
   "outputs": [
    {
     "name": "stdout",
     "output_type": "stream",
     "text": [
      "Enter first word:Hello\n",
      "Enter second word:World\n",
      "Before swapping: Value of a: Hello and b: World\n",
      "Before swapping: Value of a: World and b: Hello\n"
     ]
    }
   ],
   "source": [
    "a = input(\"Enter first word:\")\n",
    "b = input(\"Enter second word:\")\n",
    "print(\"Before swapping:\" ,\"Value of a:\",a,\"and b:\",b)\n",
    "\n",
    "a , b = b,a\n",
    "\n",
    "print(\"Before swapping:\" ,\"Value of a:\",a,\"and b:\",b)  "
   ]
  },
  {
   "cell_type": "code",
   "execution_count": 45,
   "id": "3858e47b",
   "metadata": {},
   "outputs": [
    {
     "name": "stdout",
     "output_type": "stream",
     "text": [
      "Enter first number:35\n",
      "Enter second number:100\n",
      "Before swapping: Value of a: 35 and b: 100\n",
      "Before swapping: Value of a: 100 and b: 35\n"
     ]
    }
   ],
   "source": [
    "a = int(input(\"Enter first number:\"))\n",
    "b = int(input(\"Enter second number:\"))\n",
    "print(\"Before swapping:\" ,\"Value of a:\",a,\"and b:\",b)\n",
    "a  = a+ b\n",
    "b = a - b\n",
    "a = a - b\n",
    "print(\"Before swapping:\" ,\"Value of a:\",a,\"and b:\",b) "
   ]
  },
  {
   "cell_type": "code",
   "execution_count": null,
   "id": "4cd29da7",
   "metadata": {},
   "outputs": [],
   "source": []
  }
 ],
 "metadata": {
  "kernelspec": {
   "display_name": "Python 3",
   "language": "python",
   "name": "python3"
  },
  "language_info": {
   "codemirror_mode": {
    "name": "ipython",
    "version": 3
   },
   "file_extension": ".py",
   "mimetype": "text/x-python",
   "name": "python",
   "nbconvert_exporter": "python",
   "pygments_lexer": "ipython3",
   "version": "3.8.8"
  }
 },
 "nbformat": 4,
 "nbformat_minor": 5
}
