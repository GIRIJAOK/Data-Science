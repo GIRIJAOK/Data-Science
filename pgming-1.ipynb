{
 "cells": [
  {
   "cell_type": "markdown",
   "id": "ad96941b",
   "metadata": {},
   "source": [
    "# PROGRAMMING ASSIGNMENT 1"
   ]
  },
  {
   "cell_type": "markdown",
   "id": "e7012daf",
   "metadata": {},
   "source": [
    "1. Write a Python program to print \"Hello Python\"?"
   ]
  },
  {
   "cell_type": "code",
   "execution_count": 1,
   "id": "7caf2f90",
   "metadata": {},
   "outputs": [
    {
     "name": "stdout",
     "output_type": "stream",
     "text": [
      "Hello Python\n"
     ]
    }
   ],
   "source": [
    "print(\"Hello Python\")"
   ]
  },
  {
   "cell_type": "code",
   "execution_count": 2,
   "id": "43b8f752",
   "metadata": {},
   "outputs": [
    {
     "name": "stdout",
     "output_type": "stream",
     "text": [
      "\"Hello Python\"\n"
     ]
    }
   ],
   "source": [
    "print('\"Hello Python\"')"
   ]
  },
  {
   "cell_type": "markdown",
   "id": "59b8645f",
   "metadata": {},
   "source": [
    "2. Write a Python program to do arithmetical operations addition and division.?"
   ]
  },
  {
   "cell_type": "code",
   "execution_count": 6,
   "id": "1b3f2a91",
   "metadata": {},
   "outputs": [
    {
     "name": "stdout",
     "output_type": "stream",
     "text": [
      "30\n",
      "0.5\n"
     ]
    }
   ],
   "source": [
    "a1=10\n",
    "b1=20\n",
    "sum=a1+b1\n",
    "print(sum)\n",
    "div=a1/b1\n",
    "print(div)"
   ]
  },
  {
   "cell_type": "code",
   "execution_count": 5,
   "id": "46503044",
   "metadata": {},
   "outputs": [
    {
     "name": "stdout",
     "output_type": "stream",
     "text": [
      "Enter first number:12\n",
      "First number is : 12\n",
      "Enter second number:23\n",
      "Second number is : 23\n",
      "Sum is: 35\n",
      "Division result is: 0.5217391304347826\n"
     ]
    }
   ],
   "source": [
    "a= int(input(\"Enter first number:\"))\n",
    "print(\"First number is :\",a)\n",
    "b=int(input(\"Enter second number:\"))\n",
    "print(\"Second number is :\",b)\n",
    "sum = a+b\n",
    "print(\"Sum is:\",sum)\n",
    "div = a/b\n",
    "print(\"Division result is:\",div)\n"
   ]
  },
  {
   "cell_type": "code",
   "execution_count": 7,
   "id": "2f379502",
   "metadata": {},
   "outputs": [],
   "source": [
    "def add():\n",
    "    a= int(input(\"Enter first number:\"))\n",
    "    print(\"First number is :\",a)\n",
    "    b=int(input(\"Enter second number:\"))\n",
    "    print(\"Second number is :\",b)\n",
    "    sum = a+b\n",
    "    return sum\n",
    "    \n",
    "    \n",
    "def div():\n",
    "    a= int(input(\"Enter first number:\"))\n",
    "    print(\"First number is :\",a)\n",
    "    b=int(input(\"Enter second number:\"))\n",
    "    print(\"Second number is :\",b)\n",
    "    div = a/b\n",
    "    return div"
   ]
  },
  {
   "cell_type": "code",
   "execution_count": 10,
   "id": "5a1b8692",
   "metadata": {},
   "outputs": [
    {
     "name": "stdout",
     "output_type": "stream",
     "text": [
      "Enter first number:23\n",
      "First number is : 23\n",
      "Enter second number:12\n",
      "Second number is : 12\n"
     ]
    },
    {
     "data": {
      "text/plain": [
       "35"
      ]
     },
     "execution_count": 10,
     "metadata": {},
     "output_type": "execute_result"
    }
   ],
   "source": [
    "add()\n",
    "    "
   ]
  },
  {
   "cell_type": "code",
   "execution_count": 11,
   "id": "31fb80a4",
   "metadata": {},
   "outputs": [
    {
     "name": "stdout",
     "output_type": "stream",
     "text": [
      "Enter first number:20\n",
      "First number is : 20\n",
      "Enter second number:5\n",
      "Second number is : 5\n"
     ]
    },
    {
     "data": {
      "text/plain": [
       "4.0"
      ]
     },
     "execution_count": 11,
     "metadata": {},
     "output_type": "execute_result"
    }
   ],
   "source": [
    "div()"
   ]
  },
  {
   "cell_type": "code",
   "execution_count": 12,
   "id": "ecbce5e8",
   "metadata": {},
   "outputs": [],
   "source": [
    "def switch():\n",
    "    a= int(input(\"Enter first number:\"))\n",
    "    b=int(input(\"Enter second number:\"))\n",
    "    print(\"Press 1 for Addition \\n Press 2 for Division\")\n",
    "    option = int(input(\"Enter your option:\"))\n",
    "    if option == 1:\n",
    "        sum = a+b\n",
    "        print(\"Sum is :\", sum)\n",
    "    elif option == 2:\n",
    "        div = a/b\n",
    "        print(\"division result is :\", div)\n",
    "    "
   ]
  },
  {
   "cell_type": "code",
   "execution_count": 13,
   "id": "28a08e14",
   "metadata": {},
   "outputs": [
    {
     "name": "stdout",
     "output_type": "stream",
     "text": [
      "Enter first number:34\n",
      "Enter second number:23\n",
      "Press 1 for Addition \n",
      " Press 2 for Division\n",
      "Enter your option:2\n",
      "division result is : 1.4782608695652173\n"
     ]
    }
   ],
   "source": [
    "switch()"
   ]
  },
  {
   "cell_type": "code",
   "execution_count": 14,
   "id": "a3d2d1bc",
   "metadata": {},
   "outputs": [
    {
     "name": "stdout",
     "output_type": "stream",
     "text": [
      "Enter first number:24\n",
      "Enter second number:12\n",
      "Press 1 for Addition \n",
      " Press 2 for Division\n",
      "Enter your option:1\n",
      "Sum is : 36\n"
     ]
    }
   ],
   "source": [
    "switch()"
   ]
  },
  {
   "cell_type": "markdown",
   "id": "37fec283",
   "metadata": {},
   "source": [
    "3. Write a Python program to find the area of a triangle?\n"
   ]
  },
  {
   "cell_type": "code",
   "execution_count": 15,
   "id": "fe6b7a18",
   "metadata": {},
   "outputs": [
    {
     "name": "stdout",
     "output_type": "stream",
     "text": [
      "Enter the base of a triangle:20\n",
      "Enter the height of a triangle:60\n",
      "Area is : 600.0\n"
     ]
    }
   ],
   "source": [
    "b=int(input(\"Enter the base of a triangle:\"))\n",
    "h= int(input(\"Enter the height of a triangle:\"))\n",
    "Area = (b*h)/2\n",
    "print(\"Area is :\", Area)"
   ]
  },
  {
   "cell_type": "code",
   "execution_count": 16,
   "id": "b48df44c",
   "metadata": {},
   "outputs": [
    {
     "name": "stdout",
     "output_type": "stream",
     "text": [
      "enter first side:20\n",
      "enter second side:10\n",
      "enter thirs side:20\n",
      "4192.627457812106\n"
     ]
    }
   ],
   "source": [
    "a=int(input(\"enter first side:\"))\n",
    "b=int(input(\"enter second side:\"))\n",
    "c=int(input(\"enter thirs side:\"))\n",
    "s= (a+b+c)/2\n",
    "Area = (s*(s-a)*(s-b)*(s-c) **0.5)\n",
    "print(Area)"
   ]
  },
  {
   "cell_type": "markdown",
   "id": "05c46232",
   "metadata": {},
   "source": [
    "4. Write a Python program to swap two variables?"
   ]
  },
  {
   "cell_type": "code",
   "execution_count": 19,
   "id": "77c692f8",
   "metadata": {},
   "outputs": [
    {
     "name": "stdout",
     "output_type": "stream",
     "text": [
      "Before swapping: Value of a: 10 and b: 20\n",
      "Before swapping: Value of a: 20 and b: 10\n"
     ]
    }
   ],
   "source": [
    "a=10\n",
    "b=20\n",
    "print(\"Before swapping:\" ,\"Value of a:\",a,\"and b:\",b)\n",
    "temp = b\n",
    "b=a\n",
    "a=temp\n",
    "print(\"Before swapping:\" ,\"Value of a:\",a,\"and b:\",b)"
   ]
  },
  {
   "cell_type": "code",
   "execution_count": 20,
   "id": "db9f924c",
   "metadata": {},
   "outputs": [
    {
     "name": "stdout",
     "output_type": "stream",
     "text": [
      "Before swapping: Value of a: Hello and b: World\n",
      "Before swapping: Value of a: World and b: Hello\n"
     ]
    }
   ],
   "source": [
    "a=\"Hello\"\n",
    "b=\"World\"\n",
    "print(\"Before swapping:\" ,\"Value of a:\",a,\"and b:\",b)\n",
    "temp = b\n",
    "b=a\n",
    "a=temp\n",
    "print(\"Before swapping:\" ,\"Value of a:\",a,\"and b:\",b)"
   ]
  },
  {
   "cell_type": "code",
   "execution_count": 21,
   "id": "61990b60",
   "metadata": {},
   "outputs": [
    {
     "name": "stdout",
     "output_type": "stream",
     "text": [
      "Enter first number:20\n",
      "Enter second number:60\n",
      "Before swapping: Value of a: 20 and b: 60\n",
      "Before swapping: Value of a: 60 and b: 20\n"
     ]
    }
   ],
   "source": [
    "a = int(input(\"Enter first number:\"))\n",
    "b = int(input(\"Enter second number:\"))\n",
    "print(\"Before swapping:\" ,\"Value of a:\",a,\"and b:\",b)\n",
    "\n",
    "a , b = b,a\n",
    "\n",
    "print(\"Before swapping:\" ,\"Value of a:\",a,\"and b:\",b)              "
   ]
  },
  {
   "cell_type": "code",
   "execution_count": 23,
   "id": "ae3eadcb",
   "metadata": {},
   "outputs": [
    {
     "name": "stdout",
     "output_type": "stream",
     "text": [
      "Enter first word:Hello\n",
      "Enter second word:World\n",
      "Before swapping: Value of a: Hello and b: World\n",
      "Before swapping: Value of a: World and b: Hello\n"
     ]
    }
   ],
   "source": [
    "a = input(\"Enter first word:\")\n",
    "b = input(\"Enter second word:\")\n",
    "print(\"Before swapping:\" ,\"Value of a:\",a,\"and b:\",b)\n",
    "\n",
    "a , b = b,a\n",
    "\n",
    "print(\"Before swapping:\" ,\"Value of a:\",a,\"and b:\",b)  "
   ]
  },
  {
   "cell_type": "code",
   "execution_count": 24,
   "id": "35c38d88",
   "metadata": {},
   "outputs": [
    {
     "name": "stdout",
     "output_type": "stream",
     "text": [
      "Enter first number:20\n",
      "Enter second number:45\n",
      "Before swapping: Value of a: 20 and b: 45\n",
      "Before swapping: Value of a: 45 and b: 20\n"
     ]
    }
   ],
   "source": [
    "a = int(input(\"Enter first number:\"))\n",
    "b = int(input(\"Enter second number:\"))\n",
    "print(\"Before swapping:\" ,\"Value of a:\",a,\"and b:\",b)\n",
    "a  = a+ b\n",
    "b = a - b\n",
    "a = a - b\n",
    "print(\"Before swapping:\" ,\"Value of a:\",a,\"and b:\",b) \n"
   ]
  },
  {
   "cell_type": "markdown",
   "id": "60d844dc",
   "metadata": {},
   "source": [
    "5. Write a Python program to generate a random number?"
   ]
  },
  {
   "cell_type": "code",
   "execution_count": 31,
   "id": "6ead152e",
   "metadata": {},
   "outputs": [
    {
     "name": "stdout",
     "output_type": "stream",
     "text": [
      "27\n"
     ]
    }
   ],
   "source": [
    "import random\n",
    "print(random.randint(0,50))"
   ]
  }
 ],
 "metadata": {
  "kernelspec": {
   "display_name": "Python 3",
   "language": "python",
   "name": "python3"
  },
  "language_info": {
   "codemirror_mode": {
    "name": "ipython",
    "version": 3
   },
   "file_extension": ".py",
   "mimetype": "text/x-python",
   "name": "python",
   "nbconvert_exporter": "python",
   "pygments_lexer": "ipython3",
   "version": "3.8.8"
  }
 },
 "nbformat": 4,
 "nbformat_minor": 5
}
